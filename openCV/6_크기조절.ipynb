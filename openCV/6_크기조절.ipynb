{
 "cells": [
  {
   "cell_type": "markdown",
   "id": "3a1ebc62",
   "metadata": {},
   "source": [
    "# 6. 크기 조절\n",
    "---"
   ]
  },
  {
   "cell_type": "markdown",
   "id": "95b228d7",
   "metadata": {},
   "source": [
    "## 이미지\n",
    "---\n",
    "1. 고정 크기로 설정\n",
    "1. 비율로 설정"
   ]
  },
  {
   "cell_type": "markdown",
   "id": "b9b0ace3",
   "metadata": {},
   "source": [
    "1. 고정 크기로 설정"
   ]
  },
  {
   "cell_type": "code",
   "execution_count": 1,
   "id": "3da740da",
   "metadata": {},
   "outputs": [],
   "source": [
    "import cv2\n",
    "\n",
    "img = cv2.imread(\"img.jpg\")\n",
    "dst = cv2.resize(img, (400, 500))\n",
    "\n",
    "cv2.imshow(\"img\", img)\n",
    "cv2.imshow(\"resize\", dst)\n",
    "cv2.waitKey(0)\n",
    "cv2.destroyAllWindows()"
   ]
  },
  {
   "cell_type": "markdown",
   "id": "48e4a699",
   "metadata": {},
   "source": [
    "- cv2.resize(img, 크기(width, height))"
   ]
  },
  {
   "cell_type": "markdown",
   "id": "4cc6e0a8",
   "metadata": {},
   "source": [
    "2. 비율로 설정"
   ]
  },
  {
   "cell_type": "code",
   "execution_count": 2,
   "id": "a209a00d",
   "metadata": {},
   "outputs": [],
   "source": [
    "import cv2\n",
    "\n",
    "img = cv2.imread(\"img.jpg\")\n",
    "dst = cv2.resize(img, None, fx=0.5,fy=0.5)\n",
    "\n",
    "cv2.imshow(\"img\", img)\n",
    "cv2.imshow(\"resize\", dst)\n",
    "cv2.waitKey(0)\n",
    "cv2.destroyAllWindows()"
   ]
  },
  {
   "cell_type": "markdown",
   "id": "84e8b61d",
   "metadata": {},
   "source": [
    "- fx=0.5,fy=0.5 : x, y  비율 정의(0.5배로 축소)"
   ]
  },
  {
   "cell_type": "markdown",
   "id": "886afc6d",
   "metadata": {},
   "source": [
    "## 보간법\n",
    "- 이미지를 줄이거나 키우거나 할 때 자연스럽게 처리를 하기위한 방법\n",
    "### 방법\n",
    "1. cv2.INTER_AREA : 크기 줄일 떄 사용\n",
    "1. cv2.INTER_CUBIC : 크기 늘릴 때 사용(속도 느림, 퀄리티 좋음)\n",
    "1. cv2.INTER_LINEAR : 크기 늘릴 떄 사용(기본값)"
   ]
  },
  {
   "cell_type": "markdown",
   "id": "00c7aba0",
   "metadata": {},
   "source": [
    " - 보간법 적용하여 축소"
   ]
  },
  {
   "cell_type": "code",
   "execution_count": 3,
   "id": "70bba8ec",
   "metadata": {},
   "outputs": [],
   "source": [
    "import cv2\n",
    "\n",
    "img = cv2.imread(\"img.jpg\")\n",
    "dst = cv2.resize(img, None, fx=0.5,fy=0.5, interpolation=cv2.INTER_AREA)\n",
    "\n",
    "cv2.imshow(\"img\", img)\n",
    "cv2.imshow(\"resize\", dst)\n",
    "cv2.waitKey(0)\n",
    "cv2.destroyAllWindows()"
   ]
  },
  {
   "cell_type": "markdown",
   "id": "895e1a97",
   "metadata": {},
   "source": [
    "- 보간법 적용하여 확대"
   ]
  },
  {
   "cell_type": "code",
   "execution_count": 4,
   "id": "144f0e0b",
   "metadata": {},
   "outputs": [],
   "source": [
    "import cv2\n",
    "\n",
    "img = cv2.imread(\"img.jpg\")\n",
    "dst = cv2.resize(img, None, fx=1.5,fy=1.5, interpolation=cv2.INTER_CUBIC)\n",
    "\n",
    "cv2.imshow(\"img\", img)\n",
    "cv2.imshow(\"resize\", dst)\n",
    "cv2.waitKey(0)\n",
    "cv2.destroyAllWindows()"
   ]
  },
  {
   "cell_type": "markdown",
   "id": "7c3de9f2",
   "metadata": {},
   "source": [
    "## 동영상\n",
    "---"
   ]
  },
  {
   "cell_type": "markdown",
   "id": "bde8c2eb",
   "metadata": {},
   "source": [
    "1. 고정 크기로 설정"
   ]
  },
  {
   "cell_type": "code",
   "execution_count": 5,
   "id": "0fb35203",
   "metadata": {},
   "outputs": [],
   "source": [
    "import cv2\n",
    "\n",
    "cap = cv2.VideoCapture(\"dog.mp4\")\n",
    "\n",
    "while cap.isOpened():\n",
    "    ret, frame = cap.read()\n",
    "    \n",
    "    if not ret:\n",
    "        break\n",
    "    \n",
    "    frame_resized = cv2.resize(frame, (400, 500))\n",
    "        \n",
    "    cv2.imshow(\"video\", frame_resized)\n",
    "    if cv2.waitKey(1) == ord(\"q\"):\n",
    "        break\n",
    "        \n",
    "cap.release()\n",
    "cv2.destroyAllWindows()"
   ]
  },
  {
   "cell_type": "markdown",
   "id": "6eacee5d",
   "metadata": {},
   "source": [
    "2. 비율로 설정"
   ]
  },
  {
   "cell_type": "code",
   "execution_count": 6,
   "id": "9052ddab",
   "metadata": {},
   "outputs": [],
   "source": [
    "import cv2\n",
    "\n",
    "cap = cv2.VideoCapture(\"dog.mp4\")\n",
    "\n",
    "while cap.isOpened():\n",
    "    ret, frame = cap.read()\n",
    "    \n",
    "    if not ret:\n",
    "        break\n",
    "    \n",
    "    frame_resized = cv2.resize(frame, None, fx=1.5, fy=1.5, interpolation=cv2.INTER_CUBIC)\n",
    "        \n",
    "    cv2.imshow(\"video\", frame_resized)\n",
    "    if cv2.waitKey(1) == ord(\"q\"):\n",
    "        break\n",
    "        \n",
    "cap.release()\n",
    "cv2.destroyAllWindows()"
   ]
  },
  {
   "cell_type": "markdown",
   "id": "6116188f",
   "metadata": {},
   "source": [
    "- 동영상도 보간법 사용 가능"
   ]
  }
 ],
 "metadata": {
  "kernelspec": {
   "display_name": "Python 3 (ipykernel)",
   "language": "python",
   "name": "python3"
  },
  "language_info": {
   "codemirror_mode": {
    "name": "ipython",
    "version": 3
   },
   "file_extension": ".py",
   "mimetype": "text/x-python",
   "name": "python",
   "nbconvert_exporter": "python",
   "pygments_lexer": "ipython3",
   "version": "3.9.7"
  }
 },
 "nbformat": 4,
 "nbformat_minor": 5
}
