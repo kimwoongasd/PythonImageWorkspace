{
 "cells": [
  {
   "cell_type": "markdown",
   "id": "44c437af",
   "metadata": {},
   "source": [
    "# 13. 이미지 변형 (이진화)\n",
    "---\n",
    "- 특정 값을 기준으로 흰색과 검은색으로 나누는 것\n",
    "- 흰색과 검은색만 가지는 이미지\n",
    "> 기준 : Threshold (= 임계값)"
   ]
  },
  {
   "cell_type": "code",
   "execution_count": 1,
   "id": "ab88d2f9",
   "metadata": {},
   "outputs": [],
   "source": [
    "import cv2\n",
    "\n",
    "img = cv2.imread(\"book.jpg\", cv2.IMREAD_GRAYSCALE)\n",
    "\n",
    "ret, binary = cv2.threshold(img, 127, 255, cv2.THRESH_BINARY)\n",
    "\n",
    "cv2.imshow(\"img\", img)\n",
    "cv2.imshow(\"binary\", binary)\n",
    "cv2.waitKey(0)\n",
    "cv2.destroyAllWindows()"
   ]
  },
  {
   "cell_type": "markdown",
   "id": "e4564d60",
   "metadata": {},
   "source": [
    "- cv2.threshold(img, 127, 255, cv2.THRESH_BINARY) = 127보다 크다면 흰색으로 변형"
   ]
  },
  {
   "cell_type": "markdown",
   "id": "b47c6016",
   "metadata": {},
   "source": [
    "## Trackbar (값 변화에 따른 변형 확인)"
   ]
  },
  {
   "cell_type": "code",
   "execution_count": 2,
   "id": "95d5e0f5",
   "metadata": {},
   "outputs": [
    {
     "name": "stdout",
     "output_type": "stream",
     "text": [
      "127\n"
     ]
    }
   ],
   "source": [
    "import cv2\n",
    "\n",
    "def empty(pos):\n",
    "    print(pos)\n",
    "    pass\n",
    "\n",
    "img = cv2.imread(\"book.jpg\", cv2.IMREAD_GRAYSCALE)\n",
    "\n",
    "name = \"Trackbar\"\n",
    "cv2.namedWindow(name)\n",
    "\n",
    "cv2.createTrackbar(\"threshold\", name, 127, 255, empty)\n",
    "\n",
    "while True:\n",
    "    thresh = cv2.getTrackbarPos(\"threshold\", name) # bar 이름, 창의 이름\n",
    "    ret, binary = cv2.threshold(img, thresh, 255, cv2.THRESH_BINARY)\n",
    "\n",
    "    if not ret:\n",
    "        break\n",
    "    \n",
    "    cv2.imshow(name, binary)\n",
    "    \n",
    "    if cv2.waitKey(1) == ord(\"q\"):\n",
    "        break\n",
    "\n",
    "cv2.destroyAllWindows()"
   ]
  },
  {
   "cell_type": "markdown",
   "id": "7a86c9f6",
   "metadata": {},
   "source": [
    "- cv2.createTrackbar(bar 이름, 창의 이름, 초기값, 최대값, 이벤트 처리)\n",
    "- thresh에 bar이름에 해당하는 값을 저장하여 이 값이 변함에 따라 이미지가 달라지게 할 수 있다.\n",
    "- 어떤 임계값을 기준으로 이미지 영역을 가져올지 정할 수 있다."
   ]
  }
 ],
 "metadata": {
  "kernelspec": {
   "display_name": "Python 3 (ipykernel)",
   "language": "python",
   "name": "python3"
  },
  "language_info": {
   "codemirror_mode": {
    "name": "ipython",
    "version": 3
   },
   "file_extension": ".py",
   "mimetype": "text/x-python",
   "name": "python",
   "nbconvert_exporter": "python",
   "pygments_lexer": "ipython3",
   "version": "3.9.7"
  }
 },
 "nbformat": 4,
 "nbformat_minor": 5
}
