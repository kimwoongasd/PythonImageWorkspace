{
 "cells": [
  {
   "cell_type": "markdown",
   "id": "cbdee9e3",
   "metadata": {},
   "source": [
    "# 11. 이미지 변형(흐림)\n",
    "---"
   ]
  },
  {
   "cell_type": "markdown",
   "id": "0208639d",
   "metadata": {},
   "source": [
    "## 가우시안 블러\n",
    "- 이미지를 흐리게하면서 노이즈도 제거 할 수 있다.\n",
    "- 이미지 연산 할 때 보다 빠르게 할 수 있다."
   ]
  },
  {
   "cell_type": "markdown",
   "id": "17a991ef",
   "metadata": {},
   "source": [
    "### 1. 커널 사이즈 변화에 따른 흐림"
   ]
  },
  {
   "cell_type": "code",
   "execution_count": 1,
   "id": "acd3db35",
   "metadata": {},
   "outputs": [],
   "source": [
    "import cv2\n",
    "\n",
    "img = cv2.imread(\"img.jpg\")\n",
    "\n",
    "kernel_3 = cv2.GaussianBlur(img, (3, 3), 0)\n",
    "kernel_5 = cv2.GaussianBlur(img, (5, 5), 0)\n",
    "kernel_7 = cv2.GaussianBlur(img, (7, 7), 0)\n",
    "\n",
    "cv2.imshow(\"kernel_3\", kernel_3)\n",
    "cv2.imshow(\"kernel_5\", kernel_5)\n",
    "cv2.imshow(\"kernel_7\", kernel_7)\n",
    "cv2.imshow(\"img\", img)\n",
    "cv2.waitKey(0)\n",
    "cv2.destroyAllWindows()"
   ]
  },
  {
   "cell_type": "markdown",
   "id": "ef88b1e7",
   "metadata": {},
   "source": [
    "> 커널 사이즈는 양수의 홀수로 지정한다. : 우수한 성능을 보여주기 때문이다."
   ]
  },
  {
   "cell_type": "markdown",
   "id": "9ab3b432",
   "metadata": {},
   "source": [
    "### 2. 표준 편차 변화에 따른 흐림"
   ]
  },
  {
   "cell_type": "code",
   "execution_count": 2,
   "id": "1bff90ef",
   "metadata": {},
   "outputs": [],
   "source": [
    "import cv2\n",
    "\n",
    "img = cv2.imread(\"img.jpg\")\n",
    "\n",
    "sigma_3 = cv2.GaussianBlur(img, (0, 0), 1)\n",
    "sigma_5 = cv2.GaussianBlur(img, (0, 0), 2)\n",
    "sigma_7 = cv2.GaussianBlur(img, (0, 0), 3)\n",
    "\n",
    "cv2.imshow(\"sigma_3\", sigma_3)\n",
    "cv2.imshow(\"sigma_5\", sigma_5)\n",
    "cv2.imshow(\"sigma_7\", sigma_7)\n",
    "cv2.imshow(\"img\", img)\n",
    "cv2.waitKey(0)\n",
    "cv2.destroyAllWindows()"
   ]
  },
  {
   "cell_type": "markdown",
   "id": "85b18072",
   "metadata": {},
   "source": [
    "> cv2.GaussianBlur(img, (0, 0), x) = x : sigmaX - 가우시안 커널의 x 방향의 표준 편차"
   ]
  },
  {
   "cell_type": "markdown",
   "id": "4d80b584",
   "metadata": {},
   "source": [
    "## 동영상\n",
    "---"
   ]
  },
  {
   "cell_type": "markdown",
   "id": "351ec834",
   "metadata": {},
   "source": [
    "### 1. 커널 사이즈 변화에 따른 흐림"
   ]
  },
  {
   "cell_type": "code",
   "execution_count": 3,
   "id": "7883863a",
   "metadata": {},
   "outputs": [],
   "source": [
    "import cv2\n",
    "\n",
    "cap = cv2.VideoCapture(\"dog.mp4\")\n",
    "\n",
    "while cap.isOpened():\n",
    "    ret, frame = cap.read()\n",
    "    if not ret:\n",
    "        break\n",
    "    \n",
    "    kernel_3 = cv2.GaussianBlur(frame, (3, 3), 0)\n",
    "    kernel_5 = cv2.GaussianBlur(frame, (5, 5), 0)\n",
    "    kernel_7 = cv2.GaussianBlur(frame, (7, 7), 0)\n",
    "    \n",
    "    cv2.imshow(\"video\", frame)\n",
    "    cv2.imshow(\"kernel_3\", kernel_3)\n",
    "    cv2.imshow(\"kernel_5\", kernel_5)\n",
    "    cv2.imshow(\"kernel_7\", kernel_7)\n",
    "    \n",
    "    if cv2.waitKey(3) == ord(\"q\"):\n",
    "        break\n",
    "        \n",
    "cap.release()\n",
    "cv2.destroyAllWindows()"
   ]
  },
  {
   "cell_type": "markdown",
   "id": "54dd59d9",
   "metadata": {},
   "source": [
    "### 2. 표준 편차 변화에 따른 흐림"
   ]
  },
  {
   "cell_type": "code",
   "execution_count": 4,
   "id": "9d5f92d4",
   "metadata": {},
   "outputs": [],
   "source": [
    "import cv2\n",
    "\n",
    "cap = cv2.VideoCapture(\"dog.mp4\")\n",
    "\n",
    "while cap.isOpened():\n",
    "    ret, frame = cap.read()\n",
    "    if not ret:\n",
    "        break\n",
    "    \n",
    "    sigma_3 = cv2.GaussianBlur(frame, (0, 0), 1)\n",
    "    sigma_5 = cv2.GaussianBlur(frame, (0, 0), 2)\n",
    "    sigma_7 = cv2.GaussianBlur(frame, (0, 0), 3)\n",
    "    \n",
    "    cv2.imshow(\"video\", frame)\n",
    "    cv2.imshow(\"sigma_3\", sigma_3)\n",
    "    cv2.imshow(\"sigma_5\", sigma_5)\n",
    "    cv2.imshow(\"sigma_7\", sigma_7)\n",
    "    \n",
    "    if cv2.waitKey(3) == ord(\"q\"):\n",
    "        break\n",
    "        \n",
    "cap.release()\n",
    "cv2.destroyAllWindows()"
   ]
  }
 ],
 "metadata": {
  "kernelspec": {
   "display_name": "Python 3 (ipykernel)",
   "language": "python",
   "name": "python3"
  },
  "language_info": {
   "codemirror_mode": {
    "name": "ipython",
    "version": 3
   },
   "file_extension": ".py",
   "mimetype": "text/x-python",
   "name": "python",
   "nbconvert_exporter": "python",
   "pygments_lexer": "ipython3",
   "version": "3.9.7"
  }
 },
 "nbformat": 4,
 "nbformat_minor": 5
}
