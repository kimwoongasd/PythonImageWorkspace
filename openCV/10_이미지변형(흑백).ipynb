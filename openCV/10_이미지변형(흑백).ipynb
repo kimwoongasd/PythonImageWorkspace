{
 "cells": [
  {
   "cell_type": "markdown",
   "id": "bb9ff650",
   "metadata": {},
   "source": [
    "# 10. 이미지 변형(흑백)\n",
    "---"
   ]
  },
  {
   "cell_type": "markdown",
   "id": "906f10dd",
   "metadata": {},
   "source": [
    "- 이미지를 흑백으로 읽음"
   ]
  },
  {
   "cell_type": "code",
   "execution_count": 1,
   "id": "5c9fd908",
   "metadata": {},
   "outputs": [],
   "source": [
    "import cv2\n",
    "\n",
    "img = cv2.imread(\"img.jpg\", cv2.IMREAD_GRAYSCALE)\n",
    "\n",
    "cv2.imshow(\"img\", img)\n",
    "cv2.waitKey(0)\n",
    "cv2.destroyAllWindows()"
   ]
  },
  {
   "cell_type": "markdown",
   "id": "9c58bf7f",
   "metadata": {},
   "source": [
    "- 불러온 이미지를 흑백으로 변경"
   ]
  },
  {
   "cell_type": "code",
   "execution_count": 2,
   "id": "ba4d88ae",
   "metadata": {},
   "outputs": [],
   "source": [
    "import cv2\n",
    "\n",
    "img = cv2.imread(\"img.jpg\")\n",
    "\n",
    "dst = cv2.cvtColor(img, cv2.COLOR_BGR2GRAY)\n",
    "\n",
    "cv2.imshow(\"img\", img)\n",
    "cv2.imshow(\"gray\", dst)\n",
    "cv2.waitKey(0)\n",
    "cv2.destroyAllWindows()"
   ]
  },
  {
   "cell_type": "markdown",
   "id": "37a27f0f",
   "metadata": {},
   "source": [
    "> 불러온 이미지를 BGR로 그레이색으로 바꾼다."
   ]
  },
  {
   "cell_type": "markdown",
   "id": "b344a677",
   "metadata": {},
   "source": [
    "## 동영상 흑백"
   ]
  },
  {
   "cell_type": "code",
   "execution_count": 3,
   "id": "f266e507",
   "metadata": {},
   "outputs": [],
   "source": [
    "import cv2\n",
    "\n",
    "cap = cv2.VideoCapture(\"dog.mp4\")\n",
    "\n",
    "while cap.isOpened():\n",
    "    ret, frame = cap.read()\n",
    "    if not ret:\n",
    "        break\n",
    "    \n",
    "    dst = cv2.cvtColor(frame, cv2.COLOR_BGR2GRAY)\n",
    "    \n",
    "    cv2.imshow(\"video\", frame)\n",
    "    cv2.imshow(\"gray\", dst)\n",
    "    \n",
    "    if cv2.waitKey(1) == ord(\"q\"):\n",
    "        break\n",
    "        \n",
    "cap.release()\n",
    "cv2.destroyAllWindows()"
   ]
  }
 ],
 "metadata": {
  "kernelspec": {
   "display_name": "Python 3 (ipykernel)",
   "language": "python",
   "name": "python3"
  },
  "language_info": {
   "codemirror_mode": {
    "name": "ipython",
    "version": 3
   },
   "file_extension": ".py",
   "mimetype": "text/x-python",
   "name": "python",
   "nbconvert_exporter": "python",
   "pygments_lexer": "ipython3",
   "version": "3.9.7"
  }
 },
 "nbformat": 4,
 "nbformat_minor": 5
}
