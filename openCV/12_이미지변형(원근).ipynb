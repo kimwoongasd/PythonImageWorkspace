{
 "cells": [
  {
   "cell_type": "markdown",
   "id": "117810ae",
   "metadata": {},
   "source": [
    "# 12. 이미지 변형 (원근)\n",
    "---"
   ]
  },
  {
   "cell_type": "markdown",
   "id": "0afb2ffd",
   "metadata": {},
   "source": [
    "## 사다리꼴 이미지 펼치기"
   ]
  },
  {
   "cell_type": "code",
   "execution_count": 2,
   "id": "545d00fa",
   "metadata": {},
   "outputs": [],
   "source": [
    "import cv2\n",
    "import numpy as np\n",
    "\n",
    "img = cv2.imread(\"newspaper.jpg\")\n",
    "\n",
    "# 가로 640 세로 240으로 결과물 출력\n",
    "width, height = 640, 240\n",
    "\n",
    "# 좌상, 우상, 우하, 좌하(시계 반향으로 4개지점을 정의)\n",
    "scr = np.array([[511, 352], [1008, 345], [1122, 584], [455, 594]], dtype=np.float32) # input 4개 지점\n",
    "dst = np.array([[0, 0], [width, 0], [width, height], [0, height]], dtype=np.float32) # output 4개 지점\n",
    "\n",
    "matrix = cv2.getPerspectiveTransform(scr, dst) # matrix를 얻어옴\n",
    "result = cv2.warpPerspective(img, matrix, (width, height))\n",
    "\n",
    "cv2.imshow(\"img\", img)\n",
    "cv2.imshow(\"result\", result)\n",
    "cv2.waitKey(0)\n",
    "cv2.destroyAllWindows()"
   ]
  },
  {
   "cell_type": "markdown",
   "id": "c0600f93",
   "metadata": {},
   "source": [
    "> 그림판을 이용해서 원하는 input 4개 지점을 가져온다  \n",
    "> dst는 input 4개 지점 자른 것을 어떤 크기의 값으로 결과물을 넣을지 정한다."
   ]
  },
  {
   "cell_type": "markdown",
   "id": "3c457305",
   "metadata": {},
   "source": [
    "result = cv2.warpPerspective(img, matrix, (width, height))\n",
    "- img 를 matrix에 의해서 정해진 크기로 변환한다.\n",
    "\n",
    "정리 \n",
    "- getPerspectiveTransform(scr, dst)는 scr를 dst영역으로 변환하기 위한 변환행렬\n",
    "- warpPerspective는 변환행렬 값을 적용하여 최종 결과물을 얻어온다."
   ]
  },
  {
   "cell_type": "markdown",
   "id": "e35317e3",
   "metadata": {},
   "source": [
    "## 회전된 이미지 세우기"
   ]
  },
  {
   "cell_type": "code",
   "execution_count": 3,
   "id": "3d9a7d1f",
   "metadata": {},
   "outputs": [],
   "source": [
    "import cv2\n",
    "import numpy as np\n",
    "\n",
    "img = cv2.imread(\"poker.jpg\")\n",
    "\n",
    "# 가로 530 세로 710으로 결과물 출력\n",
    "width, height = 530, 710\n",
    "\n",
    "# 좌상, 우상, 우하, 좌하(시계 반향으로 4개지점을 정의)\n",
    "scr = np.array([[702, 143], [1133, 414], [726, 1007], [278, 700]], dtype=np.float32) # input 4개 지점\n",
    "dst = np.array([[0, 0], [width, 0], [width, height], [0, height]], dtype=np.float32) # output 4개 지점\n",
    "\n",
    "matrix = cv2.getPerspectiveTransform(scr, dst) # matrix를 얻어옴\n",
    "result = cv2.warpPerspective(img, matrix, (width, height))\n",
    "\n",
    "cv2.imshow(\"img\", img)\n",
    "cv2.imshow(\"result\", result)\n",
    "cv2.waitKey(0)\n",
    "cv2.destroyAllWindows()"
   ]
  }
 ],
 "metadata": {
  "kernelspec": {
   "display_name": "Python 3 (ipykernel)",
   "language": "python",
   "name": "python3"
  },
  "language_info": {
   "codemirror_mode": {
    "name": "ipython",
    "version": 3
   },
   "file_extension": ".py",
   "mimetype": "text/x-python",
   "name": "python",
   "nbconvert_exporter": "python",
   "pygments_lexer": "ipython3",
   "version": "3.9.7"
  }
 },
 "nbformat": 4,
 "nbformat_minor": 5
}
