{
 "cells": [
  {
   "cell_type": "markdown",
   "id": "3e061207",
   "metadata": {},
   "source": [
    "# 18. 이미지 겸출 (윤곽선)\n",
    "---\n",
    "## 윤곽선 (contour) : 경계선을 연결한 선\n",
    "- 윤곽선은 정확도를 높이기 위해서 binary 이미지를 사용한다.\n",
    "- Threshold 또는 Canny Edge Detection으로 전처리를 미리 사용\n",
    "- 이 함수는 원본이미지를 직접 수정하므로 원본을 유지 할려면 사본 이미지를 사용"
   ]
  },
  {
   "cell_type": "code",
   "execution_count": 1,
   "id": "2a98254e",
   "metadata": {},
   "outputs": [],
   "source": [
    "import cv2\n",
    "\n",
    "img = cv2.imread(\"card.png\")\n",
    "target_img = img.copy()\n",
    "\n",
    "# 흑백 이미지\n",
    "gray = cv2.cvtColor(img, cv2.COLOR_BGR2GRAY)\n",
    "\n",
    "# 오츠 알고르즘 적용(Threshold 이진화)\n",
    "ret, otsu = cv2.threshold(gray, -1, 255, cv2.THRESH_BINARY | cv2.THRESH_OTSU)\n",
    "\n",
    "# 윤곽선 검출\n",
    "# 윤곽선 정보, 구조\n",
    "contours, hierarchy = cv2.findContours(otsu, cv2.RETR_LIST, cv2.CHAIN_APPROX_NONE)\n",
    "\n",
    "COLOR = (0, 200, 0) # 녹색\n",
    "\n",
    "# 윤곽선 그리기\n",
    "cv2.drawContours(target_img, contours, -1, COLOR, 2)\n",
    "\n",
    "cv2.imshow(\"img\", img)\n",
    "cv2.imshow(\"gray\", gray)\n",
    "cv2.imshow(\"otsu\", otsu)\n",
    "cv2.imshow(\"contour\", target_img)\n",
    "\n",
    "cv2.waitKey(0)\n",
    "cv2.destroyAllWindows()"
   ]
  },
  {
   "cell_type": "markdown",
   "id": "f0220493",
   "metadata": {},
   "source": [
    "> contours : 윤곽선 정보, hierarchy : 계층 구조  \n",
    "> cv2.findContours(대상 이미지, 윤곽선 찾는 모드(mode), 윤곽선 찾을때 사용하는 근사치 방법(method))   \n",
    "> cv2.drawContours(대상 이미지, 윤곽선 정보, 인덱스(-1 이면 전체), 색, 두께)"
   ]
  },
  {
   "cell_type": "markdown",
   "id": "2b456e15",
   "metadata": {},
   "source": [
    "- 윤곽선 찾을때 사용하는 근사치 방법(method)\n",
    "> CHAIN_APPROX_NONE : 윤곽선의 모든 좌표 변환\n",
    "> CHAIN_APPROX_SIMPLE : 윤곽선의 꼭지점 좌표만(중복 제거)"
   ]
  },
  {
   "cell_type": "markdown",
   "id": "e34e5a68",
   "metadata": {},
   "source": [
    "## 윤곽선 찾기 모드\n",
    "1. RETR_EXTERNAL : 가장 외각의 윤곽선만 찾음\n",
    "1. RETR_LIST : 모든 윤곽선 찾음 (계층 정보 없음)\n",
    "1. RETR_TREE : 모든 윤곽선 찾음 (계층 정보를 트리 구조로 생성)"
   ]
  },
  {
   "cell_type": "code",
   "execution_count": 2,
   "id": "4a2fb3ac",
   "metadata": {},
   "outputs": [
    {
     "name": "stdout",
     "output_type": "stream",
     "text": [
      "[[[ 1 -1 -1 -1]\n",
      "  [ 2  0 -1 -1]\n",
      "  [ 3  1 -1 -1]\n",
      "  [ 4  2 -1 -1]\n",
      "  [ 5  3 -1 -1]\n",
      "  [ 6  4 -1 -1]\n",
      "  [ 7  5 -1 -1]\n",
      "  [-1  6 -1 -1]]]\n",
      "총 발견 갯수 : 8\n"
     ]
    }
   ],
   "source": [
    "import cv2\n",
    "\n",
    "img = cv2.imread(\"card.png\")\n",
    "target_img = img.copy()\n",
    "\n",
    "# 흑백 이미지\n",
    "gray = cv2.cvtColor(img, cv2.COLOR_BGR2GRAY)\n",
    "\n",
    "# 오츠 알고르즘 적용(Threshold 이진화)\n",
    "ret, otsu = cv2.threshold(gray, -1, 255, cv2.THRESH_BINARY | cv2.THRESH_OTSU)\n",
    "\n",
    "# 윤곽선 검출\n",
    "contours, hierarchy = cv2.findContours(otsu, cv2.RETR_EXTERNAL, cv2.CHAIN_APPROX_NONE)\n",
    "\n",
    "COLOR = (0, 200, 0) # 녹색\n",
    "\n",
    "# 윤곽선 그리기\n",
    "cv2.drawContours(target_img, contours, -1, COLOR, 2)\n",
    "\n",
    "cv2.imshow(\"img\", img)\n",
    "cv2.imshow(\"gray\", gray)\n",
    "cv2.imshow(\"otsu\", otsu)\n",
    "cv2.imshow(\"contour\", target_img)\n",
    "\n",
    "print(hierarchy)\n",
    "print(f\"총 발견 갯수 : {len(contours)}\")\n",
    "cv2.waitKey(0)\n",
    "cv2.destroyAllWindows()"
   ]
  },
  {
   "cell_type": "code",
   "execution_count": 3,
   "id": "f15980f8",
   "metadata": {},
   "outputs": [
    {
     "name": "stdout",
     "output_type": "stream",
     "text": [
      "[[[ 1 -1 -1 -1]\n",
      "  [ 2  0 -1 -1]\n",
      "  [10  1  3 -1]\n",
      "  [ 5 -1  4  2]\n",
      "  [-1 -1 -1  3]\n",
      "  [ 6  3 -1  2]\n",
      "  [ 7  5 -1  2]\n",
      "  [ 8  6 -1  2]\n",
      "  [-1  7  9  2]\n",
      "  [-1 -1 -1  8]\n",
      "  [18  2 11 -1]\n",
      "  [13 -1 12 10]\n",
      "  [-1 -1 -1 11]\n",
      "  [14 11 -1 10]\n",
      "  [15 13 -1 10]\n",
      "  [16 14 -1 10]\n",
      "  [-1 15 17 10]\n",
      "  [-1 -1 -1 16]\n",
      "  [26 10 19 -1]\n",
      "  [21 -1 20 18]\n",
      "  [-1 -1 -1 19]\n",
      "  [22 19 -1 18]\n",
      "  [23 21 -1 18]\n",
      "  [24 22 -1 18]\n",
      "  [-1 23 25 18]\n",
      "  [-1 -1 -1 24]\n",
      "  [34 18 27 -1]\n",
      "  [29 -1 28 26]\n",
      "  [-1 -1 -1 27]\n",
      "  [30 27 -1 26]\n",
      "  [31 29 -1 26]\n",
      "  [32 30 -1 26]\n",
      "  [-1 31 33 26]\n",
      "  [-1 -1 -1 32]\n",
      "  [35 26 -1 -1]\n",
      "  [-1 34 -1 -1]]]\n",
      "총 발견 갯수 : 36\n"
     ]
    }
   ],
   "source": [
    "import cv2\n",
    "\n",
    "img = cv2.imread(\"card.png\")\n",
    "target_img = img.copy()\n",
    "\n",
    "# 흑백 이미지\n",
    "gray = cv2.cvtColor(img, cv2.COLOR_BGR2GRAY)\n",
    "\n",
    "# 오츠 알고르즘 적용(Threshold 이진화)\n",
    "ret, otsu = cv2.threshold(gray, -1, 255, cv2.THRESH_BINARY | cv2.THRESH_OTSU)\n",
    "\n",
    "# 윤곽선 검출\n",
    "contours, hierarchy = cv2.findContours(otsu, cv2.RETR_TREE, cv2.CHAIN_APPROX_NONE)\n",
    "\n",
    "COLOR = (0, 200, 0) # 녹색\n",
    "\n",
    "# 윤곽선 그리기\n",
    "cv2.drawContours(target_img, contours, -1, COLOR, 2)\n",
    "\n",
    "cv2.imshow(\"img\", img)\n",
    "cv2.imshow(\"gray\", gray)\n",
    "cv2.imshow(\"otsu\", otsu)\n",
    "cv2.imshow(\"contour\", target_img)\n",
    "\n",
    "print(hierarchy)\n",
    "print(f\"총 발견 갯수 : {len(contours)}\")\n",
    "cv2.waitKey(0)\n",
    "cv2.destroyAllWindows()"
   ]
  },
  {
   "cell_type": "code",
   "execution_count": 4,
   "id": "4a37b376",
   "metadata": {},
   "outputs": [
    {
     "name": "stdout",
     "output_type": "stream",
     "text": [
      "[[[ 1 -1 -1 -1]\n",
      "  [ 2  0 -1 -1]\n",
      "  [ 3  1 -1 -1]\n",
      "  [ 4  2 -1 -1]\n",
      "  [ 5  3 -1 -1]\n",
      "  [ 6  4 -1 -1]\n",
      "  [ 7  5 -1 -1]\n",
      "  [ 8  6 -1 -1]\n",
      "  [ 9  7 -1 -1]\n",
      "  [10  8 -1 -1]\n",
      "  [11  9 -1 -1]\n",
      "  [12 10 -1 -1]\n",
      "  [13 11 -1 -1]\n",
      "  [14 12 -1 -1]\n",
      "  [15 13 -1 -1]\n",
      "  [16 14 -1 -1]\n",
      "  [17 15 -1 -1]\n",
      "  [18 16 -1 -1]\n",
      "  [19 17 -1 -1]\n",
      "  [20 18 -1 -1]\n",
      "  [21 19 -1 -1]\n",
      "  [22 20 -1 -1]\n",
      "  [23 21 -1 -1]\n",
      "  [24 22 -1 -1]\n",
      "  [25 23 -1 -1]\n",
      "  [26 24 -1 -1]\n",
      "  [27 25 -1 -1]\n",
      "  [28 26 -1 -1]\n",
      "  [29 27 -1 -1]\n",
      "  [30 28 -1 -1]\n",
      "  [31 29 -1 -1]\n",
      "  [32 30 -1 -1]\n",
      "  [33 31 -1 -1]\n",
      "  [34 32 -1 -1]\n",
      "  [35 33 -1 -1]\n",
      "  [-1 34 -1 -1]]]\n",
      "총 발견 갯수 : 36\n"
     ]
    }
   ],
   "source": [
    "import cv2\n",
    "\n",
    "img = cv2.imread(\"card.png\")\n",
    "target_img = img.copy()\n",
    "\n",
    "# 흑백 이미지\n",
    "gray = cv2.cvtColor(img, cv2.COLOR_BGR2GRAY)\n",
    "\n",
    "# 오츠 알고르즘 적용(Threshold 이진화)\n",
    "ret, otsu = cv2.threshold(gray, -1, 255, cv2.THRESH_BINARY | cv2.THRESH_OTSU)\n",
    "\n",
    "# 윤곽선 검출\n",
    "contours, hierarchy = cv2.findContours(otsu, cv2.RETR_LIST, cv2.CHAIN_APPROX_NONE)\n",
    "\n",
    "COLOR = (0, 200, 0) # 녹색\n",
    "\n",
    "# 윤곽선 그리기\n",
    "cv2.drawContours(target_img, contours, -1, COLOR, 2)\n",
    "\n",
    "cv2.imshow(\"img\", img)\n",
    "cv2.imshow(\"gray\", gray)\n",
    "cv2.imshow(\"otsu\", otsu)\n",
    "cv2.imshow(\"contour\", target_img)\n",
    "\n",
    "print(hierarchy)\n",
    "print(f\"총 발견 갯수 : {len(contours)}\")\n",
    "cv2.waitKey(0)\n",
    "cv2.destroyAllWindows()"
   ]
  },
  {
   "cell_type": "markdown",
   "id": "704574eb",
   "metadata": {},
   "source": [
    "- 계층 정보가 있는거에 따라 hierarchy 순서가 다르다."
   ]
  },
  {
   "cell_type": "markdown",
   "id": "e5f68205",
   "metadata": {},
   "source": [
    "## 경계 사각형\n",
    "- 윤곽선의 경계면을 둘러싸는 사각형\n",
    "> boundingRect()"
   ]
  },
  {
   "cell_type": "code",
   "execution_count": 5,
   "id": "4e93b21e",
   "metadata": {},
   "outputs": [],
   "source": [
    "import cv2\n",
    "\n",
    "img = cv2.imread(\"card.png\")\n",
    "target_img = img.copy()\n",
    "\n",
    "# 흑백 이미지\n",
    "gray = cv2.cvtColor(img, cv2.COLOR_BGR2GRAY)\n",
    "\n",
    "# 오츠 알고르즘 적용(Threshold 이진화)\n",
    "ret, otsu = cv2.threshold(gray, -1, 255, cv2.THRESH_BINARY | cv2.THRESH_OTSU)\n",
    "\n",
    "# 윤곽선 검출\n",
    "contours, hierarchy = cv2.findContours(otsu, cv2.RETR_LIST, cv2.CHAIN_APPROX_NONE)\n",
    "\n",
    "COLOR = (0, 200, 0) # 녹색\n",
    "\n",
    "# 사각형 그리기\n",
    "for cnt in contours:\n",
    "    x, y, width, height = cv2.boundingRect(cnt)\n",
    "    cv2.rectangle(target_img, (x, y), (x + width, y + height), COLOR, 2)\n",
    "\n",
    "\n",
    "cv2.imshow(\"img\", img)\n",
    "cv2.imshow(\"gray\", gray)\n",
    "cv2.imshow(\"otsu\", otsu)\n",
    "cv2.imshow(\"contour\", target_img)\n",
    "\n",
    "cv2.waitKey(0)\n",
    "cv2.destroyAllWindows()"
   ]
  },
  {
   "cell_type": "markdown",
   "id": "3ae8d2b9",
   "metadata": {},
   "source": [
    "- 얼굴인식이나 사물인식등 처리할 수 있다."
   ]
  },
  {
   "cell_type": "markdown",
   "id": "41342503",
   "metadata": {},
   "source": [
    "## 면적\n",
    "> contourArea()\n",
    "- 특정 크기(면적) 이상의 윤곽선만 찾기"
   ]
  },
  {
   "cell_type": "code",
   "execution_count": 6,
   "id": "a5fd34b4",
   "metadata": {},
   "outputs": [],
   "source": [
    "import cv2\n",
    "\n",
    "img = cv2.imread(\"card.png\")\n",
    "target_img = img.copy()\n",
    "\n",
    "# 흑백 이미지\n",
    "gray = cv2.cvtColor(img, cv2.COLOR_BGR2GRAY)\n",
    "\n",
    "# 오츠 알고르즘 적용(Threshold 이진화)\n",
    "ret, otsu = cv2.threshold(gray, -1, 255, cv2.THRESH_BINARY | cv2.THRESH_OTSU)\n",
    "\n",
    "# 윤곽선 검출\n",
    "contours, hierarchy = cv2.findContours(otsu, cv2.RETR_LIST, cv2.CHAIN_APPROX_NONE)\n",
    "\n",
    "COLOR = (0, 200, 0) # 녹색\n",
    "\n",
    "\n",
    "for cnt in contours:\n",
    "    # 특정 크기 이상\n",
    "    if cv2.contourArea(cnt) > 25000:\n",
    "        # 사각형 그리기\n",
    "        x, y, width, height = cv2.boundingRect(cnt)\n",
    "        cv2.rectangle(target_img, (x, y), (x + width, y + height), COLOR, 2)\n",
    "\n",
    "\n",
    "cv2.imshow(\"img\", img)\n",
    "cv2.imshow(\"gray\", gray)\n",
    "cv2.imshow(\"otsu\", otsu)\n",
    "cv2.imshow(\"contour\", target_img)\n",
    "\n",
    "cv2.waitKey(0)\n",
    "cv2.destroyAllWindows()"
   ]
  },
  {
   "cell_type": "markdown",
   "id": "a33eded0",
   "metadata": {},
   "source": [
    "> 카드 한장 크기 : 가로 130  x 세로 205"
   ]
  }
 ],
 "metadata": {
  "kernelspec": {
   "display_name": "Python 3 (ipykernel)",
   "language": "python",
   "name": "python3"
  },
  "language_info": {
   "codemirror_mode": {
    "name": "ipython",
    "version": 3
   },
   "file_extension": ".py",
   "mimetype": "text/x-python",
   "name": "python",
   "nbconvert_exporter": "python",
   "pygments_lexer": "ipython3",
   "version": "3.9.7"
  }
 },
 "nbformat": 4,
 "nbformat_minor": 5
}
