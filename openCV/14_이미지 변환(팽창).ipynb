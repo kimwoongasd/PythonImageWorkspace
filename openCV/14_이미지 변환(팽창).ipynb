{
 "cells": [
  {
   "cell_type": "markdown",
   "id": "e4b9c6c2",
   "metadata": {},
   "source": [
    "# 14. 이미지 변환 (팽창)\n",
    "---\n",
    "#### 이미지를 확장하여 작은 구멍을 채움\n",
    "- 흰색 영역의 외곽 픽셀 주변에 흰색을 추가"
   ]
  },
  {
   "cell_type": "code",
   "execution_count": 6,
   "id": "4f7713cc",
   "metadata": {},
   "outputs": [],
   "source": [
    "import cv2\n",
    "import numpy as np\n",
    "\n",
    "kernel = np.ones((3, 3), dtype=np.uint8)\n",
    "\n",
    "img = cv2.imread(\"dilate.png\", cv2.IMREAD_GRAYSCALE)\n",
    "dilate_1 = cv2.dilate(img, kernel, iterations=1)\n",
    "dilate_2 = cv2.dilate(img, kernel, iterations=2)\n",
    "dilate_3 = cv2.dilate(img, kernel, iterations=3)\n",
    "\n",
    "cv2.imshow(\"gray\", img)\n",
    "cv2.imshow(\"dilate_1\", dilate_1)\n",
    "cv2.imshow(\"dilate_2\", dilate_2)\n",
    "cv2.imshow(\"dilate_3\", dilate_3)\n",
    "cv2.waitKey(0)\n",
    "cv2.destroyAllWindows()"
   ]
  },
  {
   "cell_type": "markdown",
   "id": "b08e9221",
   "metadata": {},
   "source": [
    "- 이미지를 팽창시키면서 점점 이미지 외각 부분에 흰색 픽셀을 채워나가면서 커진다.\n",
    "- iterations가 많아질수록 글자가 커지는 것과 동시에 빈 공간이 점점 없어지는 것을 확인 할 수 있다."
   ]
  },
  {
   "cell_type": "markdown",
   "id": "8aff97ac",
   "metadata": {},
   "source": [
    "> np.ones((3, 3), dtype=np.uint8) : 3 x 3 리스트를 만들고 1로 채워준다.  \n",
    "> iterations = 반복 횟수"
   ]
  }
 ],
 "metadata": {
  "kernelspec": {
   "display_name": "Python 3 (ipykernel)",
   "language": "python",
   "name": "python3"
  },
  "language_info": {
   "codemirror_mode": {
    "name": "ipython",
    "version": 3
   },
   "file_extension": ".py",
   "mimetype": "text/x-python",
   "name": "python",
   "nbconvert_exporter": "python",
   "pygments_lexer": "ipython3",
   "version": "3.9.7"
  }
 },
 "nbformat": 4,
 "nbformat_minor": 5
}
