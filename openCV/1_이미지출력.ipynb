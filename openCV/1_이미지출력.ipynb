{
 "cells": [
  {
   "cell_type": "markdown",
   "id": "43c99bb1",
   "metadata": {},
   "source": [
    "# 환경 설정\n",
    "---\n",
    "- Anaconda Prompt에서 다음 명령 수행\n",
    "> pip install opencv-python"
   ]
  },
  {
   "cell_type": "markdown",
   "id": "250c9cbd",
   "metadata": {},
   "source": [
    "### 버전 확인\n",
    "---"
   ]
  },
  {
   "cell_type": "code",
   "execution_count": 1,
   "id": "84c7af4e",
   "metadata": {},
   "outputs": [
    {
     "data": {
      "text/plain": [
       "'4.5.5'"
      ]
     },
     "execution_count": 1,
     "metadata": {},
     "output_type": "execute_result"
    }
   ],
   "source": [
    "import cv2\n",
    "cv2.__version__"
   ]
  },
  {
   "cell_type": "markdown",
   "id": "97c55ba4",
   "metadata": {},
   "source": [
    "# OpenCV(Computer Vision)\n",
    "---\n",
    "- 다양한 영상 (이미지) / 동영상 처리에 사용되는 오픈소스 라이브러리"
   ]
  },
  {
   "cell_type": "markdown",
   "id": "39cd314e",
   "metadata": {},
   "source": [
    "# 1. 이미지 출력\n",
    "---"
   ]
  },
  {
   "cell_type": "code",
   "execution_count": 2,
   "id": "14b9263d",
   "metadata": {},
   "outputs": [],
   "source": [
    "import cv2\n",
    "img = cv2.imread(\"img.jpg\") # 해당 경로의 파일 읽어오기\n",
    "cv2.imshow(\"img\", img) # img 라는 이름의 창에 img 표시\n",
    "cv2.waitKey(5000) # 지정된 시간(ms) 동안 사용자가 키 입력 대기\n",
    "cv2.destroyAllWindows() # 모든 창 닫기"
   ]
  },
  {
   "cell_type": "markdown",
   "id": "dcfb0812",
   "metadata": {},
   "source": [
    "- imshow : 제목이 img 이고 이미지 파일 이름이 img인 파일을 창에 표시한다\n",
    "- waitKey : 0 = 무한 대기 , 5000(ms) = 5초\n",
    "- 실행 후 q를 누르면 실행 창이 닫힌다"
   ]
  },
  {
   "cell_type": "code",
   "execution_count": 3,
   "id": "d4a401ca",
   "metadata": {},
   "outputs": [
    {
     "name": "stdout",
     "output_type": "stream",
     "text": [
      "97\n"
     ]
    }
   ],
   "source": [
    "import cv2\n",
    "img = cv2.imread(\"img.jpg\") # 해당 경로의 파일 읽어오기\n",
    "cv2.imshow(\"img\", img) # img 라는 이름의 창에 img 표시\n",
    "key = cv2.waitKey(5000) # 지정된 시간(ms) 동안 사용자가 키 입력 대기\n",
    "print(key)\n",
    "cv2.destroyAllWindows() # 모든 창 닫기"
   ]
  },
  {
   "cell_type": "markdown",
   "id": "5381ecc8",
   "metadata": {},
   "source": [
    "- key라는 변수에 key값 저장\n",
    "- 아스키코드로 출력된다"
   ]
  },
  {
   "cell_type": "markdown",
   "id": "b0a88c4c",
   "metadata": {},
   "source": [
    "## 읽기 옵션\n",
    "---\n",
    "1. cv2.IMREAD_COLOR : 컬러 이미지, 투명 영역은 무시(기본값)\n",
    "1. cv2.IMREAD_GRAYSCALE : 흑백 이미지\n",
    "1. cv2.IMREAD_UNCHANGED : 투명 영역까지 포함"
   ]
  },
  {
   "cell_type": "code",
   "execution_count": 4,
   "id": "28f213b7",
   "metadata": {},
   "outputs": [],
   "source": [
    "import cv2\n",
    "img_color = cv2.imread(\"img.jpg\", cv2.IMREAD_COLOR)\n",
    "img_gray = cv2.imread(\"img.jpg\", cv2.IMREAD_GRAYSCALE)\n",
    "img_unchange = cv2.imread(\"img.jpg\", cv2.IMREAD_UNCHANGED)\n",
    "\n",
    "cv2.imshow(\"img\", img_color)\n",
    "cv2.imshow(\"img_gray\", img_gray)\n",
    "cv2.imshow(\"img_unchange\", img_unchange)\n",
    "\n",
    "cv2.waitKey(0)\n",
    "cv2.destroyAllWindows()"
   ]
  },
  {
   "cell_type": "markdown",
   "id": "510be726",
   "metadata": {},
   "source": [
    "## Shape\n",
    "---\n",
    "- 이미지의 height, width, channel 정보"
   ]
  },
  {
   "cell_type": "code",
   "execution_count": 5,
   "id": "32ba9999",
   "metadata": {},
   "outputs": [
    {
     "data": {
      "text/plain": [
       "(390, 640, 3)"
      ]
     },
     "execution_count": 5,
     "metadata": {},
     "output_type": "execute_result"
    }
   ],
   "source": [
    "import cv2\n",
    "img = cv2.imread(\"img.jpg\")\n",
    "img.shape # 세로 가로 Channel 정보"
   ]
  },
  {
   "cell_type": "markdown",
   "id": "61a08dbe",
   "metadata": {},
   "source": [
    "- 세로 : 390, 가로 : 640, channel : 3\n",
    "- channel : 3 = RGB값을 3개 가진다.\n",
    "- 투명영역에 대한 처리를 한다면 channel : 4가 된다"
   ]
  }
 ],
 "metadata": {
  "kernelspec": {
   "display_name": "Python 3 (ipykernel)",
   "language": "python",
   "name": "python3"
  },
  "language_info": {
   "codemirror_mode": {
    "name": "ipython",
    "version": 3
   },
   "file_extension": ".py",
   "mimetype": "text/x-python",
   "name": "python",
   "nbconvert_exporter": "python",
   "pygments_lexer": "ipython3",
   "version": "3.9.7"
  }
 },
 "nbformat": 4,
 "nbformat_minor": 5
}
