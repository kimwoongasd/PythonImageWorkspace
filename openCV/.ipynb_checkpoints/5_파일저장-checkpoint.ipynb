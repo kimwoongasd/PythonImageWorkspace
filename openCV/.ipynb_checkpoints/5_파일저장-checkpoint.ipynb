{
 "cells": [
  {
   "cell_type": "markdown",
   "id": "0b6ae5f9",
   "metadata": {},
   "source": [
    "# 5. 파일 저장\n",
    "---"
   ]
  },
  {
   "cell_type": "markdown",
   "id": "7a2503fe",
   "metadata": {},
   "source": [
    "## 이미지 저장\n",
    "- 사진을 흑백으로 불러와 저장해보자."
   ]
  },
  {
   "cell_type": "code",
   "execution_count": 1,
   "id": "f715c754",
   "metadata": {},
   "outputs": [
    {
     "name": "stdout",
     "output_type": "stream",
     "text": [
      "True\n"
     ]
    }
   ],
   "source": [
    "import cv2\n",
    "\n",
    "img = cv2.imread(\"img.jpg\", cv2.IMREAD_GRAYSCALE)\n",
    "cv2.imshow(\"img\", img)\n",
    "cv2.waitKey(0)\n",
    "cv2.destroyAllWindows()\n",
    "\n",
    "result = cv2.imwrite(\"img_save.jpg\", img)\n",
    "print(result)"
   ]
  },
  {
   "cell_type": "markdown",
   "id": "aa82a380",
   "metadata": {},
   "source": [
    "- 저장을 했다면 True를 출력"
   ]
  },
  {
   "cell_type": "markdown",
   "id": "e10de249",
   "metadata": {},
   "source": [
    "### 저장 포맷(jpg, png)"
   ]
  },
  {
   "cell_type": "code",
   "execution_count": 2,
   "id": "558e9ab5",
   "metadata": {},
   "outputs": [
    {
     "data": {
      "text/plain": [
       "True"
      ]
     },
     "execution_count": 2,
     "metadata": {},
     "output_type": "execute_result"
    }
   ],
   "source": [
    "import cv2\n",
    "\n",
    "img = cv2.imread(\"img.jpg\", cv2.IMREAD_GRAYSCALE)\n",
    "cv2.imwrite(\"img_save_png.png\", img)"
   ]
  },
  {
   "cell_type": "markdown",
   "id": "dac7eb4d",
   "metadata": {},
   "source": [
    "## 동영상 저장"
   ]
  },
  {
   "cell_type": "code",
   "execution_count": 3,
   "id": "10a67519",
   "metadata": {},
   "outputs": [],
   "source": [
    "import cv2\n",
    "\n",
    "cap = cv2.VideoCapture(\"dog.mp4\")\n",
    "\n",
    "# 코덱 정의\n",
    "fourcc = cv2.VideoWriter_fourcc(*'DIVX')\n",
    "\n",
    "# 프레임 크기 FPS 정의\n",
    "width = round(cap.get(cv2.CAP_PROP_FRAME_WIDTH))\n",
    "height = round(cap.get(cv2.CAP_PROP_FRAME_HEIGHT))\n",
    "fps = cap.get(cv2.CAP_PROP_FPS) \n",
    "\n",
    "out = cv2.VideoWriter(\"output.avi\", fourcc, fps, (width, height))\n",
    "\n",
    "while cap.isOpened():\n",
    "    ret, frame = cap.read()\n",
    "    if not ret:\n",
    "        break\n",
    "    \n",
    "    out.write(frame) # 영상 데이터만 저장(소리 x)\n",
    "    cv2.imshow(\"video\", frame)\n",
    "    if cv2.waitKey(1) == ord(\"q\"):\n",
    "        break\n",
    "\n",
    "out.release() # 자원 해제\n",
    "cap.release()\n",
    "cv2.destroyAllWindows()"
   ]
  },
  {
   "cell_type": "code",
   "execution_count": 4,
   "id": "d7715a26",
   "metadata": {},
   "outputs": [
    {
     "name": "stdout",
     "output_type": "stream",
     "text": [
      "DIVX\n",
      "D I V X\n"
     ]
    }
   ],
   "source": [
    "codec = \"DIVX\"\n",
    "print(codec)\n",
    "print(*'DIVX')"
   ]
  },
  {
   "cell_type": "markdown",
   "id": "7f47ea89",
   "metadata": {},
   "source": [
    "1. 코덱를 정의  \n",
    "1. 임의 크기 FPS를 정의 해준다  \n",
    "1. cv2.VideoWriter를 통해 어떤 파일로 저장할지 옵션을 정의하고 반복문을 통해서 프레임을 써준다."
   ]
  },
  {
   "cell_type": "markdown",
   "id": "e2c2ef69",
   "metadata": {},
   "source": [
    " - fourcc에서 cc는 캐릭터코드를 의미한다.\n",
    " - *'DIVX' : 한글자 씩 따로 변환해서 출력된다.\n",
    " - cv2.VideoWriter(저장 파일명, 코텍, fps, 크기(width, height))\n",
    " - fps = cap.get(cv2.CAP_PROP_FPS) * 2 = 영상의 재생 속도가 2배가 된다.\n",
    " - 소리는 저장되지 않는다."
   ]
  }
 ],
 "metadata": {
  "kernelspec": {
   "display_name": "Python 3 (ipykernel)",
   "language": "python",
   "name": "python3"
  },
  "language_info": {
   "codemirror_mode": {
    "name": "ipython",
    "version": 3
   },
   "file_extension": ".py",
   "mimetype": "text/x-python",
   "name": "python",
   "nbconvert_exporter": "python",
   "pygments_lexer": "ipython3",
   "version": "3.9.7"
  }
 },
 "nbformat": 4,
 "nbformat_minor": 5
}
