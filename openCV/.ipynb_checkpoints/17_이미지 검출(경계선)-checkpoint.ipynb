{
 "cells": [
  {
   "cell_type": "markdown",
   "id": "f8366bdc",
   "metadata": {},
   "source": [
    "# 17. 이미지 검출 (경계선)\n",
    "---\n",
    "## Canny Edge Detection\n",
    "- 픽셀의 색이 변하는 곳을 경계선으로 인식한다.\n",
    "- 노이즈가 적다."
   ]
  },
  {
   "cell_type": "code",
   "execution_count": 1,
   "id": "ea459401",
   "metadata": {},
   "outputs": [],
   "source": [
    "import cv2\n",
    "\n",
    "img = cv2.imread(\"snowman.png\")\n",
    "\n",
    "canny = cv2.Canny(img, 150, 200)\n",
    "\n",
    "cv2.imshow(\"img\", img)\n",
    "cv2.imshow(\"canny\", canny)\n",
    "cv2.waitKey(0)\n",
    "cv2.destroyAllWindows()"
   ]
  },
  {
   "cell_type": "markdown",
   "id": "e70546ca",
   "metadata": {},
   "source": [
    "> cv2.Canny(대상 이미지, Minval(하위 임계값), Maxval(상위 임계값))   \n",
    "> 하위 임계값보다 작으면 경계선으로 인식 x   \n",
    "> 상위 임계값보다 크다면 경계선으로 인식 o"
   ]
  },
  {
   "cell_type": "markdown",
   "id": "3fe2cc5e",
   "metadata": {},
   "source": [
    "### Trackbar를 이용한 경계선"
   ]
  },
  {
   "cell_type": "code",
   "execution_count": 2,
   "id": "e36402ad",
   "metadata": {},
   "outputs": [],
   "source": [
    "import cv2\n",
    "\n",
    "def empty(pos):\n",
    "    pass\n",
    "\n",
    "img = cv2.imread(\"snowman.png\")\n",
    "\n",
    "name = \"Trackbar\"\n",
    "cv2.namedWindow(name)\n",
    "cv2.createTrackbar(\"threshold1\", name, 0, 255, empty) # minval\n",
    "cv2.createTrackbar(\"threshold2\", name, 0, 255, empty) # maxval\n",
    "\n",
    "while True:\n",
    "    threshold_1 = cv2.getTrackbarPos(\"threshold1\", name)\n",
    "    threshold_2 = cv2.getTrackbarPos(\"threshold2\", name)\n",
    "\n",
    "    canny = cv2.Canny(img, threshold_1, threshold_2)\n",
    "\n",
    "    cv2.imshow(\"img\", img)\n",
    "    cv2.imshow(name, canny)\n",
    "    \n",
    "    if cv2.waitKey(1) == ord(\"q\"):\n",
    "        break\n",
    "        \n",
    "cv2.destroyAllWindows()"
   ]
  }
 ],
 "metadata": {
  "kernelspec": {
   "display_name": "Python 3 (ipykernel)",
   "language": "python",
   "name": "python3"
  },
  "language_info": {
   "codemirror_mode": {
    "name": "ipython",
    "version": 3
   },
   "file_extension": ".py",
   "mimetype": "text/x-python",
   "name": "python",
   "nbconvert_exporter": "python",
   "pygments_lexer": "ipython3",
   "version": "3.9.7"
  }
 },
 "nbformat": 4,
 "nbformat_minor": 5
}
