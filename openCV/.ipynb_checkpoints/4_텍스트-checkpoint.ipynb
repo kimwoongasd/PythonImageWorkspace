{
 "cells": [
  {
   "cell_type": "markdown",
   "id": "a665e834",
   "metadata": {},
   "source": [
    "# 4. 텍스트\n",
    "---\n",
    "## OpenCV 에서 사용하는 글꼴 종류\n",
    "1. cv2.FONT_HERSHEY_SIMPLEX : 보통 크기의 산 세리프(sans-serif) 글꼴\n",
    "1. cv2.FONT_HERSHEY_PLAIN : 작은 크기의 산 세리프 글꼴\n",
    "1. cv2.FONT_HERSHEY_SCRIPT_SIMPLEX : 필기체 스타일 글꼴\n",
    "1. cv2.FONT_HERSHEY_TRIPLEX : 보통 크기의 세리프 글꼴\n",
    "1. cv2.FONT_ITALIC : 기울림(이탤릭체)"
   ]
  },
  {
   "cell_type": "code",
   "execution_count": 1,
   "id": "bf60fdec",
   "metadata": {},
   "outputs": [],
   "source": [
    "import cv2\n",
    "import numpy as np\n",
    "\n",
    "img = np.zeros((480, 640, 3), dtype=np.uint8)\n",
    "\n",
    "COLOR = (255, 255, 255) # 흰색\n",
    "THICKNESS = 1 # 두께\n",
    "SCALE = 1 # 크기\n",
    "\n",
    "cv2.putText(img, \"Nado Simplex\", (20, 50), cv2.FONT_HERSHEY_SIMPLEX, SCALE, COLOR, THICKNESS)\n",
    "cv2.putText(img, \"Nado PLAIN\", (20, 150), cv2.FONT_HERSHEY_PLAIN, SCALE, COLOR, THICKNESS)\n",
    "cv2.putText(img, \"Nado SCRIPT_SIMPLEX\", (20, 250), cv2.FONT_HERSHEY_SCRIPT_SIMPLEX, SCALE, COLOR, THICKNESS)\n",
    "cv2.putText(img, \"Nado Triplex\", (20, 350), cv2.FONT_HERSHEY_TRIPLEX, SCALE, COLOR, THICKNESS)\n",
    "cv2.putText(img, \"Nado Italic\", (20, 450), cv2.FONT_HERSHEY_TRIPLEX | cv2.FONT_ITALIC, SCALE, COLOR, THICKNESS)\n",
    "\n",
    "cv2.imshow(\"img\", img)\n",
    "cv2.waitKey(0)\n",
    "cv2.destroyAllWindows()"
   ]
  },
  {
   "cell_type": "markdown",
   "id": "07d45191",
   "metadata": {},
   "source": [
    "- cv2.putText(그릴 위치, 텍스트 내용, 글자 입력 위치, 폰트 종류, 크기, 색깔, 두께)\n",
    "- cv2.FONT_ITALIC : 다른 글꼴과 같이 써야한다."
   ]
  },
  {
   "cell_type": "markdown",
   "id": "f10d5c36",
   "metadata": {},
   "source": [
    "## 한글\n",
    "---"
   ]
  },
  {
   "cell_type": "code",
   "execution_count": 2,
   "id": "57c58733",
   "metadata": {},
   "outputs": [],
   "source": [
    "import cv2\n",
    "import numpy as np\n",
    "\n",
    "img = np.zeros((480, 640, 3), dtype=np.uint8)\n",
    "\n",
    "COLOR = (255, 255, 255) # 흰색\n",
    "THICKNESS = 1 # 두께\n",
    "SCALE = 1 # 크기\n",
    "\n",
    "cv2.putText(img, \"나도 코딩\", (20, 50), cv2.FONT_HERSHEY_SIMPLEX, SCALE, COLOR, THICKNESS)\n",
    "\n",
    "cv2.imshow(\"img\", img)\n",
    "cv2.waitKey(0)\n",
    "cv2.destroyAllWindows()"
   ]
  },
  {
   "cell_type": "markdown",
   "id": "aedad618",
   "metadata": {},
   "source": [
    "- 한글로 입력 했을 때 ???로 나오거나 꺠지는 것을 알 수 있다."
   ]
  },
  {
   "cell_type": "markdown",
   "id": "94f75f5f",
   "metadata": {},
   "source": [
    "### 한글 우회 방법"
   ]
  },
  {
   "cell_type": "code",
   "execution_count": 3,
   "id": "acca6001",
   "metadata": {},
   "outputs": [],
   "source": [
    "import cv2\n",
    "import numpy as np\n",
    "from PIL import ImageFont, ImageDraw, Image\n",
    "\n",
    "def myPutText(src, text, pos, font_size, font_color):\n",
    "    img_pil = Image.fromarray(src)\n",
    "    draw = ImageDraw.Draw(img_pil)\n",
    "    font = ImageFont.truetype(\"font/gulim.ttc\", font_size)\n",
    "    draw.text(pos, text, font=font, fill=font_color)\n",
    "    return np.array(img_pil)\n",
    "    \n",
    "img = np.zeros((480, 640, 3), dtype=np.uint8)\n",
    "\n",
    "FONT_SIZE = 50\n",
    "COLOR = (255, 255, 255) # 흰색\n",
    "\n",
    "# cv2.putText(img, \"나도 코딩\", (20, 50), cv2.FONT_HERSHEY_SIMPLEX, SCALE, COLOR, THICKNESS)\n",
    "img = myPutText(img, \"나도 코딩\", (20, 50), FONT_SIZE, COLOR)\n",
    "\n",
    "\n",
    "cv2.imshow(\"img\", img)\n",
    "cv2.waitKey(0)\n",
    "cv2.destroyAllWindows()"
   ]
  },
  {
   "cell_type": "markdown",
   "id": "d8c26251",
   "metadata": {},
   "source": [
    "> 우회를 위해서 from PIL import ImageFont, ImageDraw, Image 해준다.\n",
    "> 함수를 다음과 같이 사용하여 한글을 입력 할 수 있다."
   ]
  }
 ],
 "metadata": {
  "kernelspec": {
   "display_name": "Python 3 (ipykernel)",
   "language": "python",
   "name": "python3"
  },
  "language_info": {
   "codemirror_mode": {
    "name": "ipython",
    "version": 3
   },
   "file_extension": ".py",
   "mimetype": "text/x-python",
   "name": "python",
   "nbconvert_exporter": "python",
   "pygments_lexer": "ipython3",
   "version": "3.9.7"
  }
 },
 "nbformat": 4,
 "nbformat_minor": 5
}
