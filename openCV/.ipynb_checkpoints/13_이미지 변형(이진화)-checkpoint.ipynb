{
 "cells": [
  {
   "cell_type": "markdown",
   "id": "44c437af",
   "metadata": {},
   "source": [
    "# 13. 이미지 변형 (이진화)\n",
    "---\n",
    "- 특정 값을 기준으로 흰색과 검은색으로 나누는 것\n",
    "- 흰색과 검은색만 가지는 이미지\n",
    "> 기준 : Threshold (= 임계값)"
   ]
  },
  {
   "cell_type": "markdown",
   "id": "ef0022e2",
   "metadata": {},
   "source": [
    "# Threshold\n",
    "---\n",
    "- 전체 영역을 임계치를 적용한다."
   ]
  },
  {
   "cell_type": "code",
   "execution_count": 1,
   "id": "ab88d2f9",
   "metadata": {},
   "outputs": [],
   "source": [
    "import cv2\n",
    "\n",
    "img = cv2.imread(\"book.jpg\", cv2.IMREAD_GRAYSCALE)\n",
    "\n",
    "ret, binary = cv2.threshold(img, 127, 255, cv2.THRESH_BINARY)\n",
    "\n",
    "cv2.imshow(\"img\", img)\n",
    "cv2.imshow(\"binary\", binary)\n",
    "cv2.waitKey(0)\n",
    "cv2.destroyAllWindows()"
   ]
  },
  {
   "cell_type": "markdown",
   "id": "e4564d60",
   "metadata": {},
   "source": [
    "- cv2.threshold(img, 127, 255, cv2.THRESH_BINARY) = 127보다 크다면 흰색으로 변형"
   ]
  },
  {
   "cell_type": "markdown",
   "id": "b47c6016",
   "metadata": {},
   "source": [
    "## Trackbar (값 변화에 따른 변형 확인)"
   ]
  },
  {
   "cell_type": "code",
   "execution_count": 2,
   "id": "95d5e0f5",
   "metadata": {},
   "outputs": [
    {
     "name": "stdout",
     "output_type": "stream",
     "text": [
      "127\n"
     ]
    }
   ],
   "source": [
    "import cv2\n",
    "\n",
    "def empty(pos):\n",
    "    print(pos)\n",
    "    pass\n",
    "\n",
    "img = cv2.imread(\"book.jpg\", cv2.IMREAD_GRAYSCALE)\n",
    "\n",
    "name = \"Trackbar\"\n",
    "cv2.namedWindow(name)\n",
    "\n",
    "cv2.createTrackbar(\"threshold\", name, 127, 255, empty)\n",
    "\n",
    "while True:\n",
    "    thresh = cv2.getTrackbarPos(\"threshold\", name) # bar 이름, 창의 이름\n",
    "    ret, binary = cv2.threshold(img, thresh, 255, cv2.THRESH_BINARY)\n",
    "\n",
    "    if not ret:\n",
    "        break\n",
    "    \n",
    "    cv2.imshow(name, binary)\n",
    "    \n",
    "    if cv2.waitKey(1) == ord(\"q\"):\n",
    "        break\n",
    "\n",
    "cv2.destroyAllWindows()"
   ]
  },
  {
   "cell_type": "markdown",
   "id": "7a86c9f6",
   "metadata": {},
   "source": [
    "- cv2.createTrackbar(bar 이름, 창의 이름, 초기값, 최대값, 이벤트 처리)\n",
    "- thresh에 bar이름에 해당하는 값을 저장하여 이 값이 변함에 따라 이미지가 달라지게 할 수 있다.\n",
    "- 어떤 임계값을 기준으로 이미지 영역을 가져올지 정할 수 있다."
   ]
  },
  {
   "cell_type": "markdown",
   "id": "79d56e67",
   "metadata": {},
   "source": [
    "## 그림판에서 제작한 이미지로 임계값 확인"
   ]
  },
  {
   "cell_type": "code",
   "execution_count": 3,
   "id": "38c123b1",
   "metadata": {},
   "outputs": [],
   "source": [
    "import cv2\n",
    "\n",
    "def empty(pos):\n",
    "#     print(pos)\n",
    "    pass\n",
    "\n",
    "img = cv2.imread(\"threshold.png\", cv2.IMREAD_GRAYSCALE)\n",
    "\n",
    "name = \"Trackbar\"\n",
    "cv2.namedWindow(name)\n",
    "\n",
    "cv2.createTrackbar(\"threshold\", name, 127, 255, empty)\n",
    "\n",
    "while True:\n",
    "    thresh = cv2.getTrackbarPos(\"threshold\", name) # bar 이름, 창의 이름\n",
    "    ret, binary = cv2.threshold(img, thresh, 255, cv2.THRESH_BINARY)\n",
    "\n",
    "    if not ret:\n",
    "        break\n",
    "    \n",
    "    cv2.imshow(\"img\", img)\n",
    "    cv2.imshow(name, binary)\n",
    "    \n",
    "    if cv2.waitKey(1) == ord(\"q\"):\n",
    "        break\n",
    "\n",
    "cv2.destroyAllWindows()"
   ]
  },
  {
   "cell_type": "markdown",
   "id": "b6a263f7",
   "metadata": {},
   "source": [
    " - 검은색 : 0, 진한 회색 : 127, 밝은 회색 : 195, 희색 : 255 초과이면 흰색으로 변한다."
   ]
  },
  {
   "cell_type": "markdown",
   "id": "21904fd5",
   "metadata": {},
   "source": [
    " #### 각 기준값에 따른 색 변화"
   ]
  },
  {
   "cell_type": "code",
   "execution_count": 4,
   "id": "9179eb37",
   "metadata": {},
   "outputs": [],
   "source": [
    "import cv2\n",
    "\n",
    "img = cv2.imread(\"threshold.png\", cv2.IMREAD_GRAYSCALE)\n",
    "\n",
    "ret, binary_1 = cv2.threshold(img, 0, 255, cv2.THRESH_BINARY)\n",
    "ret, binary_2 = cv2.threshold(img, 127, 255, cv2.THRESH_BINARY)\n",
    "ret, binary_3 = cv2.threshold(img, 195, 255, cv2.THRESH_BINARY)\n",
    "\n",
    "\n",
    "cv2.imshow(\"img\", img)\n",
    "cv2.imshow(\"binary_1\", binary_1)\n",
    "cv2.imshow(\"binary_2\", binary_2)\n",
    "cv2.imshow(\"binary_3\", binary_3)\n",
    "cv2.waitKey(0)\n",
    "cv2.destroyAllWindows()"
   ]
  },
  {
   "cell_type": "markdown",
   "id": "ca46e8bb",
   "metadata": {},
   "source": [
    "- binary_1 : 임계값 0을 초과하는 색은 흰색으로 변경 (진한 회색, 밝은 회색, 흰색 -> 흰색)\n",
    "- binary_2 : 임계값 127을 초과하는 색은 흰색으로 변경 (밝은 회색, 흰색 -> 흰색)\n",
    "- binary_3 : 임계값 195을 초과하는 색은 흰색으로 변경 (흰색)"
   ]
  },
  {
   "cell_type": "markdown",
   "id": "52e3338e",
   "metadata": {},
   "source": [
    "## Adaptive Threshold\n",
    "---\n",
    "- 영역을 작은 영역으로 나누어서 임계치를 적용한다.  \n",
    "ex) 반사가 심한 경우, 조명이 일정하지 않은 경우"
   ]
  },
  {
   "cell_type": "code",
   "execution_count": 5,
   "id": "6a9381b1",
   "metadata": {},
   "outputs": [],
   "source": [
    "import cv2\n",
    "\n",
    "def empty(pos):\n",
    "#     print(pos)\n",
    "    pass\n",
    "\n",
    "img = cv2.imread(\"book.jpg\", cv2.IMREAD_GRAYSCALE)\n",
    "\n",
    "name = \"Trackbar\"\n",
    "cv2.namedWindow(name)\n",
    "\n",
    "cv2.createTrackbar(\"block_size\", name, 25, 100, empty)\n",
    "cv2.createTrackbar(\"c\", name, 3, 10, empty)\n",
    "\n",
    "while True:\n",
    "    block_size = cv2.getTrackbarPos(\"block_size\", name) # bar 이름, 창의 이름\n",
    "    c = cv2.getTrackbarPos(\"c\", name) # bar 이름, 창의 이름\n",
    "    \n",
    "    # 1보다 작다면 1보다 큰 홀수로\n",
    "    if block_size <= 1:\n",
    "        block_size = 3\n",
    "    \n",
    "    # 홀수면 짝수로\n",
    "    if block_size % 2 == 0:\n",
    "        block_size += 1\n",
    "    \n",
    "    binary = cv2.adaptiveThreshold(img, 255, cv2.ADAPTIVE_THRESH_MEAN_C, cv2.THRESH_BINARY, block_size, c)\n",
    "    \n",
    "    cv2.imshow(name, binary)\n",
    "    \n",
    "    if cv2.waitKey(1) == ord(\"q\"):\n",
    "        break\n",
    "\n",
    "cv2.destroyAllWindows()"
   ]
  },
  {
   "cell_type": "markdown",
   "id": "f3e06373",
   "metadata": {},
   "source": [
    "- block_size는 1보다 크고 홀수만 가능하므로 짝수일 경우 홀수로 변환해 준다."
   ]
  },
  {
   "cell_type": "markdown",
   "id": "cda8d22b",
   "metadata": {},
   "source": [
    "> cv2.createTrackbar(\"block_size\") = 홀수만 가능, 1보다 큰 값\n",
    "> cv2.createTrackbar(\"c\") = 일반적으로 양수의 값을 사용  \n",
    "> adaptiveThreshold는 리턴값이 하나이다."
   ]
  },
  {
   "cell_type": "markdown",
   "id": "62d79798",
   "metadata": {},
   "source": [
    "## 오츠 알고리즘\n",
    "---\n",
    "- 최적의 임계치값을 자동으로 찾아서 적용한다.\n",
    "- 모든 이미지에 대해서 최적에 임계치를 찾지 못한다.\n",
    "- Bimodal 이미지에 사용하기 적합"
   ]
  },
  {
   "cell_type": "code",
   "execution_count": 6,
   "id": "33bc617a",
   "metadata": {},
   "outputs": [
    {
     "name": "stdout",
     "output_type": "stream",
     "text": [
      "otsu.threshold 100.0\n"
     ]
    }
   ],
   "source": [
    "import cv2\n",
    "\n",
    "img = cv2.imread(\"book.jpg\", cv2.IMREAD_GRAYSCALE)\n",
    "\n",
    "ret, binary = cv2.threshold(img, 127, 255, cv2.THRESH_BINARY)\n",
    "ret, otsu = cv2.threshold(img, -1, 255, cv2.THRESH_BINARY | cv2.THRESH_OTSU)\n",
    "print(\"otsu.threshold\", ret)\n",
    "\n",
    "cv2.imshow(\"img\", img)\n",
    "cv2.imshow(\"binary\", binary)\n",
    "cv2.imshow(\"otsu\", otsu)\n",
    "\n",
    "cv2.waitKey(0)\n",
    "cv2.destroyAllWindows()"
   ]
  },
  {
   "cell_type": "markdown",
   "id": "20a12c32",
   "metadata": {},
   "source": [
    "## 동영상"
   ]
  },
  {
   "cell_type": "code",
   "execution_count": 7,
   "id": "53ff1f3d",
   "metadata": {},
   "outputs": [],
   "source": [
    "import cv2\n",
    "\n",
    "def empty(pos):\n",
    "#     print(pos)\n",
    "    pass\n",
    "\n",
    "cap = cv2.VideoCapture(\"dog.mp4\")\n",
    "name = \"Trackbar\"\n",
    "cv2.namedWindow(name)\n",
    "cv2.createTrackbar(\"threshold\", name, 127, 255, empty)\n",
    "\n",
    "while cap.isOpened():\n",
    "    ret, frame = cap.read()\n",
    "    if not ret:\n",
    "        break\n",
    "    \n",
    "    thresh = cv2.getTrackbarPos(\"threshold\", name) # bar 이름, 창의 이름\n",
    "    ret_2, binary = cv2.threshold(frame, thresh, 255, cv2.THRESH_BINARY)\n",
    "        \n",
    "    if not ret_2:\n",
    "        break\n",
    "        \n",
    "    cv2.imshow(name, binary)\n",
    "    \n",
    "    if cv2.waitKey(3) == ord(\"q\"):\n",
    "        break\n",
    "        \n",
    "cap.release()\n",
    "cv2.destroyAllWindows()"
   ]
  }
 ],
 "metadata": {
  "kernelspec": {
   "display_name": "Python 3 (ipykernel)",
   "language": "python",
   "name": "python3"
  },
  "language_info": {
   "codemirror_mode": {
    "name": "ipython",
    "version": 3
   },
   "file_extension": ".py",
   "mimetype": "text/x-python",
   "name": "python",
   "nbconvert_exporter": "python",
   "pygments_lexer": "ipython3",
   "version": "3.9.7"
  }
 },
 "nbformat": 4,
 "nbformat_minor": 5
}
