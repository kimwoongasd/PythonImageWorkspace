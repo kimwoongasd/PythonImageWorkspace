{
 "cells": [
  {
   "cell_type": "markdown",
   "id": "cbdee9e3",
   "metadata": {},
   "source": [
    "# 11. 이미지 변형(흐림)\n",
    "---"
   ]
  },
  {
   "cell_type": "markdown",
   "id": "0208639d",
   "metadata": {},
   "source": [
    "## 가우시안 블러\n",
    "- 이미지를 흐리게하면서 노이즈도 제거 할 수 있다.\n",
    "- 이미지 연산 할 때 보다 빠르게 할 수 있다."
   ]
  },
  {
   "cell_type": "markdown",
   "id": "17a991ef",
   "metadata": {},
   "source": [
    "### 1. 커널 사이즈 변화에 따른 흐림"
   ]
  },
  {
   "cell_type": "code",
   "execution_count": null,
   "id": "acd3db35",
   "metadata": {},
   "outputs": [],
   "source": [
    "import cv2\n",
    "\n",
    "img = cv2.imread(\"img.jpg\")\n",
    "\n",
    "cv2.imshow(\"img\", img)\n",
    "cv2.waitKey(0)\n",
    "cv2.destroyAllWindows()"
   ]
  },
  {
   "cell_type": "markdown",
   "id": "9ab3b432",
   "metadata": {},
   "source": [
    "### 2. 표준 편차 변화에 따른 흐림"
   ]
  },
  {
   "cell_type": "code",
   "execution_count": null,
   "id": "1bff90ef",
   "metadata": {},
   "outputs": [],
   "source": []
  },
  {
   "cell_type": "code",
   "execution_count": null,
   "id": "cbdd7145",
   "metadata": {},
   "outputs": [],
   "source": []
  }
 ],
 "metadata": {
  "kernelspec": {
   "display_name": "Python 3 (ipykernel)",
   "language": "python",
   "name": "python3"
  },
  "language_info": {
   "codemirror_mode": {
    "name": "ipython",
    "version": 3
   },
   "file_extension": ".py",
   "mimetype": "text/x-python",
   "name": "python",
   "nbconvert_exporter": "python",
   "pygments_lexer": "ipython3",
   "version": "3.9.7"
  }
 },
 "nbformat": 4,
 "nbformat_minor": 5
}
