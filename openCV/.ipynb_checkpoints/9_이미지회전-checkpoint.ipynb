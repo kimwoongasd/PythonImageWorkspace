{
 "cells": [
  {
   "cell_type": "markdown",
   "id": "bd464bab",
   "metadata": {},
   "source": [
    "# 9. 이미지 회전\n",
    "---"
   ]
  },
  {
   "cell_type": "markdown",
   "id": "efe6ca1a",
   "metadata": {},
   "source": [
    "## 시계 방향 90도 회전"
   ]
  },
  {
   "cell_type": "code",
   "execution_count": 1,
   "id": "f63f9fce",
   "metadata": {},
   "outputs": [],
   "source": [
    "import cv2\n",
    "\n",
    "img = cv2.imread(\"img.jpg\")\n",
    "\n",
    "rotate_90 = cv2.rotate(img, cv2.ROTATE_90_CLOCKWISE)\n",
    "\n",
    "cv2.imshow(\"img\", img)\n",
    "cv2.imshow(\"rotate_90\", rotate_90)\n",
    "\n",
    "cv2.waitKey(0)\n",
    "cv2.destroyAllWindows()"
   ]
  },
  {
   "cell_type": "markdown",
   "id": "52360152",
   "metadata": {},
   "source": [
    "## 180도 회전"
   ]
  },
  {
   "cell_type": "code",
   "execution_count": 2,
   "id": "2652146d",
   "metadata": {},
   "outputs": [],
   "source": [
    "import cv2\n",
    "\n",
    "img = cv2.imread(\"img.jpg\")\n",
    "\n",
    "rotate_180 = cv2.rotate(img, cv2.ROTATE_180)\n",
    "\n",
    "cv2.imshow(\"img\", img)\n",
    "cv2.imshow(\"rotate_180\", rotate_180)\n",
    "\n",
    "cv2.waitKey(0)\n",
    "cv2.destroyAllWindows()"
   ]
  },
  {
   "cell_type": "markdown",
   "id": "ea9351a4",
   "metadata": {},
   "source": [
    "## 시계 반대 방향으로 90도 회전(시계 방향 270도 회전)"
   ]
  },
  {
   "cell_type": "code",
   "execution_count": 3,
   "id": "5bad97ab",
   "metadata": {},
   "outputs": [],
   "source": [
    "import cv2\n",
    "\n",
    "img = cv2.imread(\"img.jpg\")\n",
    "\n",
    "rotate_270 = cv2.rotate(img, cv2.ROTATE_90_COUNTERCLOCKWISE)\n",
    "\n",
    "cv2.imshow(\"img\", img)\n",
    "cv2.imshow(\"rotate_270\", rotate_270)\n",
    "\n",
    "cv2.waitKey(0)\n",
    "cv2.destroyAllWindows()"
   ]
  },
  {
   "cell_type": "markdown",
   "id": "7c59d863",
   "metadata": {},
   "source": [
    "- cv2.ROTATE_90_CLOCKWISE : 시계 방향으로 90도 회전\n",
    "- cv2.ROTATE_180 : 180도 회전\n",
    "- cv2.ROTATE_90_COUNTERCLOCKWISE : 반시계 방향으로 90도 회전"
   ]
  },
  {
   "cell_type": "markdown",
   "id": "844edbf8",
   "metadata": {},
   "source": [
    "# 동영상 회전\n",
    "---"
   ]
  },
  {
   "cell_type": "markdown",
   "id": "3e70573d",
   "metadata": {},
   "source": [
    "## 시계 방향으로 90도 회전"
   ]
  },
  {
   "cell_type": "code",
   "execution_count": 4,
   "id": "47ce47ba",
   "metadata": {},
   "outputs": [],
   "source": [
    "import cv2\n",
    "\n",
    "cap = cv2.VideoCapture(\"dog.mp4\")\n",
    "\n",
    "while cap.isOpened():\n",
    "    ret, frame = cap.read()\n",
    "    if not ret:\n",
    "        break\n",
    "     \n",
    "    rotate_90 = cv2.rotate(frame, cv2.ROTATE_90_CLOCKWISE)\n",
    "    cv2.imshow(\"video\", frame)\n",
    "    cv2.imshow(\"rotate_90\", rotate_90)\n",
    "        \n",
    "    if cv2.waitKey(1) == ord(\"q\"):\n",
    "        break\n",
    "        \n",
    "cap.release()\n",
    "cv2.destroyAllWindows()"
   ]
  },
  {
   "cell_type": "markdown",
   "id": "d28eed9e",
   "metadata": {},
   "source": [
    "## 180도 회전"
   ]
  },
  {
   "cell_type": "code",
   "execution_count": 5,
   "id": "71c6e44c",
   "metadata": {},
   "outputs": [],
   "source": [
    "import cv2\n",
    "\n",
    "cap = cv2.VideoCapture(\"dog.mp4\")\n",
    "\n",
    "while cap.isOpened():\n",
    "    ret, frame = cap.read()\n",
    "    if not ret:\n",
    "        break\n",
    "     \n",
    "    rotate_180 = cv2.rotate(frame, cv2.ROTATE_180)\n",
    "    cv2.imshow(\"video\", frame)\n",
    "    cv2.imshow(\"rotate_180\", rotate_180)\n",
    "        \n",
    "    if cv2.waitKey(1) == ord(\"q\"):\n",
    "        break\n",
    "        \n",
    "cap.release()\n",
    "cv2.destroyAllWindows()"
   ]
  },
  {
   "cell_type": "markdown",
   "id": "f3c270e6",
   "metadata": {},
   "source": [
    "## 시계 반대 방향으로 90도 회전(시계 방향 270도 회전)"
   ]
  },
  {
   "cell_type": "code",
   "execution_count": 6,
   "id": "2eae45ef",
   "metadata": {},
   "outputs": [],
   "source": [
    "import cv2\n",
    "\n",
    "cap = cv2.VideoCapture(\"dog.mp4\")\n",
    "\n",
    "while cap.isOpened():\n",
    "    ret, frame = cap.read()\n",
    "    if not ret:\n",
    "        break\n",
    "     \n",
    "    rotate_270 = cv2.rotate(frame, cv2.ROTATE_90_COUNTERCLOCKWISE)\n",
    "    cv2.imshow(\"video\", frame)\n",
    "    cv2.imshow(\"rotate_270\", rotate_270)\n",
    "        \n",
    "    if cv2.waitKey(1) == ord(\"q\"):\n",
    "        break\n",
    "        \n",
    "cap.release()\n",
    "cv2.destroyAllWindows()"
   ]
  }
 ],
 "metadata": {
  "kernelspec": {
   "display_name": "Python 3 (ipykernel)",
   "language": "python",
   "name": "python3"
  },
  "language_info": {
   "codemirror_mode": {
    "name": "ipython",
    "version": 3
   },
   "file_extension": ".py",
   "mimetype": "text/x-python",
   "name": "python",
   "nbconvert_exporter": "python",
   "pygments_lexer": "ipython3",
   "version": "3.9.7"
  }
 },
 "nbformat": 4,
 "nbformat_minor": 5
}
