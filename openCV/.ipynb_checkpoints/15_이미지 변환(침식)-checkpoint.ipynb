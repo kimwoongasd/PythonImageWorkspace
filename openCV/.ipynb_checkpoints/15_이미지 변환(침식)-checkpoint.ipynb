{
 "cells": [
  {
   "cell_type": "markdown",
   "id": "adda8f7a",
   "metadata": {},
   "source": [
    "# 15. 이미지 변환 (침식)\n",
    "---\n",
    "#### 이미지를 깎아서 노이즈 제거\n",
    "- 흰색 영역의 외각 픽셀을 검은색으로 변경"
   ]
  },
  {
   "cell_type": "code",
   "execution_count": 2,
   "id": "baf22273",
   "metadata": {},
   "outputs": [],
   "source": [
    "import cv2\n",
    "import numpy as np\n",
    "\n",
    "kernel = np.ones((3, 3), dtype=np.uint8)\n",
    "\n",
    "img = cv2.imread(\"erode.png\", cv2.IMREAD_GRAYSCALE)\n",
    "erode_1 = cv2.erode(img, kernel, iterations=1)\n",
    "erode_2 = cv2.erode(img, kernel, iterations=2)\n",
    "erode_3 = cv2.erode(img, kernel, iterations=3)\n",
    "\n",
    "cv2.imshow(\"gray\", img)\n",
    "cv2.imshow(\"erode_1\", erode_1)\n",
    "cv2.imshow(\"erode_2\", erode_2)\n",
    "cv2.imshow(\"erode_3\", erode_3)\n",
    "cv2.waitKey(0)\n",
    "cv2.destroyAllWindows()"
   ]
  }
 ],
 "metadata": {
  "kernelspec": {
   "display_name": "Python 3 (ipykernel)",
   "language": "python",
   "name": "python3"
  },
  "language_info": {
   "codemirror_mode": {
    "name": "ipython",
    "version": 3
   },
   "file_extension": ".py",
   "mimetype": "text/x-python",
   "name": "python",
   "nbconvert_exporter": "python",
   "pygments_lexer": "ipython3",
   "version": "3.9.7"
  }
 },
 "nbformat": 4,
 "nbformat_minor": 5
}
