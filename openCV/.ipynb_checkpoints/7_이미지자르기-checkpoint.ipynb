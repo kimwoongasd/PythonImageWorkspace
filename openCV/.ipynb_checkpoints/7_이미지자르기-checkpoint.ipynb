{
 "cells": [
  {
   "cell_type": "markdown",
   "id": "b854611f",
   "metadata": {},
   "source": [
    "# 7. 이미지 자르기\n",
    "---"
   ]
  },
  {
   "cell_type": "markdown",
   "id": "6696ac1c",
   "metadata": {},
   "source": [
    "1. 영역을 잘라서 새로운 윈도우(창)에 표시"
   ]
  },
  {
   "cell_type": "code",
   "execution_count": 1,
   "id": "e34a5e93",
   "metadata": {},
   "outputs": [],
   "source": [
    "import cv2\n",
    "\n",
    "img = cv2.imread(\"img.jpg\")\n",
    "# img.shape (390, 640, 3)\n",
    "\n",
    "crop = img[100:200, 200:400]\n",
    "\n",
    "cv2.imshow(\"img\", img)\n",
    "cv2.imshow(\"crop\", crop)\n",
    "cv2.waitKey(0)\n",
    "cv2.destroyAllWindows()"
   ]
  },
  {
   "cell_type": "markdown",
   "id": "f878901d",
   "metadata": {},
   "source": [
    "- crop = img[세로범위, 가로범위]"
   ]
  },
  {
   "cell_type": "markdown",
   "id": "5efddad7",
   "metadata": {},
   "source": [
    "2. 영역을 잘라서 기존 윈도우에 표시"
   ]
  },
  {
   "cell_type": "code",
   "execution_count": 2,
   "id": "ab550c11",
   "metadata": {},
   "outputs": [],
   "source": [
    "import cv2\n",
    "\n",
    "img = cv2.imread(\"img.jpg\")\n",
    "\n",
    "crop = img[100:200, 200:400]\n",
    "img[100:200, 400:600] = crop\n",
    "\n",
    "cv2.imshow(\"img\", img)\n",
    "cv2.waitKey(0)\n",
    "cv2.destroyAllWindows()"
   ]
  },
  {
   "cell_type": "markdown",
   "id": "932931f0",
   "metadata": {},
   "source": [
    "## 동영상 자르기\n",
    "---"
   ]
  },
  {
   "cell_type": "code",
   "execution_count": 3,
   "id": "1677f577",
   "metadata": {},
   "outputs": [],
   "source": [
    "import cv2\n",
    "\n",
    "cap = cv2.VideoCapture(\"dog.mp4\")\n",
    "\n",
    "\n",
    "while cap.isOpened():\n",
    "    ret, frame = cap.read()\n",
    "    if not ret:\n",
    "        break\n",
    "    \n",
    "    crop = frame[200:400, 100:200]\n",
    "    frame[400:600, 100:200] = crop\n",
    "    cv2.imshow(\"video\", frame)\n",
    "    \n",
    "    if cv2.waitKey(2) == ord(\"q\"):\n",
    "        break\n",
    "        \n",
    "cap.release() # (640, 356, 3)\n",
    "cv2.destroyAllWindows()"
   ]
  }
 ],
 "metadata": {
  "kernelspec": {
   "display_name": "Python 3 (ipykernel)",
   "language": "python",
   "name": "python3"
  },
  "language_info": {
   "codemirror_mode": {
    "name": "ipython",
    "version": 3
   },
   "file_extension": ".py",
   "mimetype": "text/x-python",
   "name": "python",
   "nbconvert_exporter": "python",
   "pygments_lexer": "ipython3",
   "version": "3.9.7"
  }
 },
 "nbformat": 4,
 "nbformat_minor": 5
}
