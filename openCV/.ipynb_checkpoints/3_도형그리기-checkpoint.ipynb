{
 "cells": [
  {
   "cell_type": "markdown",
   "id": "0314d1b9",
   "metadata": {},
   "source": [
    "# 3. 도형 그리기\n",
    "---"
   ]
  },
  {
   "cell_type": "markdown",
   "id": "2cc41ae1",
   "metadata": {},
   "source": [
    "## 빈 스케치북 만들기\n",
    "---\n",
    "- 세로 648 x 가로 640 3 Channel(RGB)에 해당하는 스케치북 만들기"
   ]
  },
  {
   "cell_type": "code",
   "execution_count": 1,
   "id": "75a5d73c",
   "metadata": {},
   "outputs": [],
   "source": [
    "import cv2\n",
    "import numpy as np\n",
    "\n",
    "# 세로 648 x 가로 640 3 Channel(RGB)에 해당하는 스케치북 만들기\n",
    "img = np.zeros((480, 640, 3), dtype=np.uint8)\n",
    "# img[:] = (255, 255, 255)\n",
    "# print(img)\n",
    "\n",
    "cv2.imshow(\"img\", img)\n",
    "cv2.waitKey(0)\n",
    "cv2.destroyAllWindows()"
   ]
  },
  {
   "cell_type": "markdown",
   "id": "d3fbcdb9",
   "metadata": {},
   "source": [
    "- np.zeros((255, 255, 255)) : 전체 공간을 흰 색으로 채우기\n",
    "- R G B 순이 아니라 B G R 순이다"
   ]
  },
  {
   "cell_type": "markdown",
   "id": "5048d5fa",
   "metadata": {},
   "source": [
    "## 일부 영역 색칠\n",
    "---"
   ]
  },
  {
   "cell_type": "code",
   "execution_count": 2,
   "id": "a08c98b4",
   "metadata": {},
   "outputs": [],
   "source": [
    "import cv2\n",
    "import numpy as np\n",
    "\n",
    "# 세로 648 x 가로 640 3 Channel(RGB)에 해당하는 스케치북 만들기\n",
    "img = np.zeros((480, 640, 3), dtype=np.uint8)\n",
    "img[100:200, 200:300] = (255, 255, 255)\n",
    "\n",
    "cv2.imshow(\"img\", img)\n",
    "cv2.waitKey(0)\n",
    "cv2.destroyAllWindows()"
   ]
  },
  {
   "cell_type": "markdown",
   "id": "f66faf74",
   "metadata": {},
   "source": [
    "- img[100:200, 200:300] = img[세로 영역, 가로 영역]"
   ]
  },
  {
   "cell_type": "markdown",
   "id": "32d65b1e",
   "metadata": {},
   "source": [
    "## 직선\n",
    "---\n",
    "### 직선의 종류(line type)\n",
    "1. cv2.LINE_4 : 상하좌우 4방향으로 연결된 선\n",
    "1. cv2.LINE_8 : 대각선을 포함한 8방향으로 연결된 선(기본값)\n",
    "1. cv2.LINE_AA : 부드러운 선(anti-aliasing)"
   ]
  },
  {
   "cell_type": "code",
   "execution_count": 3,
   "id": "999ab9b0",
   "metadata": {},
   "outputs": [],
   "source": [
    "import cv2\n",
    "import numpy as np\n",
    "\n",
    "img = np.zeros((480, 640, 3), dtype=np.uint8)\n",
    "\n",
    "COROL = (0, 255, 255) # Yellow\n",
    "THICKNESS = 3 # 두께\n",
    "\n",
    "cv2.line(img, (50, 100), (400, 50), COROL, THICKNESS, cv2.LINE_8)\n",
    "cv2.line(img, (50, 200), (400, 150), COROL, THICKNESS, cv2.LINE_4)\n",
    "cv2.line(img, (50, 300), (400, 250), COROL, THICKNESS, cv2.LINE_AA)\n",
    "\n",
    "cv2.imshow(\"img\", img)\n",
    "cv2.waitKey(0)\n",
    "cv2.destroyAllWindows()"
   ]
  },
  {
   "cell_type": "markdown",
   "id": "001291e8",
   "metadata": {},
   "source": [
    "- cv2.line(그릴 위치, 시작 점, 끝 점, 색깔, 두께, 선 종류)\n",
    "- 부드러운 순 : LINE_4 < LINE_8 < LINE_AA"
   ]
  },
  {
   "cell_type": "markdown",
   "id": "f5652a8a",
   "metadata": {},
   "source": [
    "## 원\n",
    "---"
   ]
  },
  {
   "cell_type": "code",
   "execution_count": 4,
   "id": "0f0cce92",
   "metadata": {},
   "outputs": [],
   "source": [
    "import cv2\n",
    "import numpy as np\n",
    "\n",
    "img = np.zeros((480, 640, 3), dtype=np.uint8)\n",
    "\n",
    "COROL = (255, 255, 0) # 옥색\n",
    "RADIUS = 50 # 반지름\n",
    "THICKNESS = 10 # 두께\n",
    "\n",
    "# 도넛 모양 원\n",
    "cv2.circle(img, (200, 100), RADIUS, COROL, THICKNESS, cv2.LINE_AA)\n",
    "# 속이 찬 원\n",
    "cv2.circle(img, (400, 100), RADIUS, COROL, cv2.FILLED, cv2.LINE_AA)\n",
    "\n",
    "cv2.imshow(\"img\", img)\n",
    "cv2.waitKey(0)\n",
    "cv2.destroyAllWindows()"
   ]
  },
  {
   "cell_type": "markdown",
   "id": "c4943627",
   "metadata": {},
   "source": [
    "- cv2.circle(그릴 위치, 원의 중심점, 반지름, 색깔, 두께, 선 종류)\n",
    "-  cv2.FILLED를 사용해 속이 꽉찬 원을 만들 수 있다."
   ]
  },
  {
   "cell_type": "markdown",
   "id": "7c9771d5",
   "metadata": {},
   "source": [
    "## 사각형\n",
    "---"
   ]
  },
  {
   "cell_type": "code",
   "execution_count": 5,
   "id": "8f934891",
   "metadata": {
    "scrolled": true
   },
   "outputs": [],
   "source": [
    "import cv2\n",
    "import numpy as np\n",
    "\n",
    "img = np.zeros((480, 640, 3), dtype=np.uint8)\n",
    "\n",
    "COROL = (0, 255, 0) # 초록색\n",
    "THICKNESS = 4 # 두께\n",
    "\n",
    "# 속이 빈 사각형\n",
    "cv2.rectangle(img, (100, 100), (200, 200), COROL, THICKNESS, cv2.LINE_AA)\n",
    "# 속이 찬 사격형\n",
    "cv2.rectangle(img, (300, 100), (400, 300), COROL, cv2.FILLED, cv2.LINE_AA)\n",
    "\n",
    "cv2.imshow(\"img\", img)\n",
    "cv2.waitKey(0)\n",
    "cv2.destroyAllWindows()"
   ]
  },
  {
   "cell_type": "markdown",
   "id": "97031536",
   "metadata": {},
   "source": [
    "- cv2.rectangle(그릴 위치, 왼쪽 위 좌표, 오른쪽 아래 좌표, 색깔, 두께, 선 종류)\n",
    "- 왼쪽 위 좌표 기준으로 오른쪽 아래 좌표 까지 사각형을 그린다.\n",
    "- cv2.FILLED를 사용해 속이 꽉찬 사각형을 만들 수 있다."
   ]
  },
  {
   "cell_type": "markdown",
   "id": "398c6440",
   "metadata": {},
   "source": [
    "## 다각형 그리기\n",
    "---\n",
    "### 속이 빈 다각형"
   ]
  },
  {
   "cell_type": "code",
   "execution_count": 6,
   "id": "5ed555db",
   "metadata": {},
   "outputs": [],
   "source": [
    "import cv2\n",
    "import numpy as np\n",
    "\n",
    "img = np.zeros((480, 640, 3), dtype=np.uint8)\n",
    "\n",
    "COROL = (0, 0, 255) # 빨간색\n",
    "THICKNESS = 4 # 두께\n",
    "\n",
    "pts1 = np.array([[100, 100], [200, 100], [100, 200]])\n",
    "pts2 = np.array([[300, 100], [300, 200], [200, 300]])\n",
    "cv2.polylines(img, [pts1], True, COROL, THICKNESS, cv2.LINE_AA)\n",
    "cv2.polylines(img, [pts2], False, COROL, THICKNESS, cv2.LINE_AA)\n",
    "\n",
    "cv2.imshow(\"img\", img)\n",
    "cv2.waitKey(0)\n",
    "cv2.destroyAllWindows()"
   ]
  },
  {
   "cell_type": "markdown",
   "id": "0439cabc",
   "metadata": {},
   "source": [
    "- cv2.polylines(그릴 위치, 그릴 좌표들, 첫 점과 마지막 점 연결(닫힘 여부), 색깔, 두께, 선 종류)\n",
    "- 그릴 좌표들은 [] 안에 담아야 한다."
   ]
  },
  {
   "cell_type": "code",
   "execution_count": 7,
   "id": "c8dc0e18",
   "metadata": {},
   "outputs": [],
   "source": [
    "import cv2\n",
    "import numpy as np\n",
    "\n",
    "img = np.zeros((480, 640, 3), dtype=np.uint8)\n",
    "\n",
    "COROL = (0, 0, 255) # 빨간색\n",
    "THICKNESS = 4 # 두께\n",
    "\n",
    "pts1 = np.array([[100, 100], [200, 100], [100, 200]])\n",
    "pts2 = np.array([[200, 100], [300, 100], [300, 200]])\n",
    "# cv2.polylines(img, [pts1], True, COROL, THICKNESS, cv2.LINE_AA)\n",
    "# cv2.polylines(img, [pts2], True, COROL, THICKNESS, cv2.LINE_AA)\n",
    "cv2.polylines(img, [pts1, pts2], True, COROL, THICKNESS, cv2.LINE_AA)\n",
    "\n",
    "cv2.imshow(\"img\", img)\n",
    "cv2.waitKey(0)\n",
    "cv2.destroyAllWindows()"
   ]
  },
  {
   "cell_type": "markdown",
   "id": "e63f206e",
   "metadata": {},
   "source": [
    "- 따로 코드를 작성 할 것 없이 리스트안에 넣으면 모든 도형을 그려준다."
   ]
  },
  {
   "cell_type": "markdown",
   "id": "2300a6a5",
   "metadata": {},
   "source": [
    "### 속이 찬 다각형"
   ]
  },
  {
   "cell_type": "code",
   "execution_count": 8,
   "id": "08624406",
   "metadata": {},
   "outputs": [],
   "source": [
    "import cv2\n",
    "import numpy as np\n",
    "\n",
    "img = np.zeros((480, 640, 3), dtype=np.uint8)\n",
    "\n",
    "COROL = (0, 0, 255) # 빨간색\n",
    "THICKNESS = 4 # 두께\n",
    "\n",
    "pts1 = np.array([[100, 100], [200, 100], [100, 200]])\n",
    "pts2 = np.array([[200, 100], [300, 100], [300, 200]])\n",
    "# cv2.polylines(img, [pts1], True, COROL, THICKNESS, cv2.LINE_AA)\n",
    "# cv2.polylines(img, [pts2], True, COROL, THICKNESS, cv2.LINE_AA)\n",
    "cv2.polylines(img, [pts1, pts2], True, COROL, THICKNESS, cv2.LINE_AA)\n",
    "\n",
    "pts3 = np.array([[[100, 300], [200, 300], [100, 400]], [[200, 300], [300, 300], [300, 400]]])\n",
    "cv2.fillPoly(img, pts3, COROL)\n",
    "\n",
    "cv2.imshow(\"img\", img)\n",
    "cv2.waitKey(0)\n",
    "cv2.destroyAllWindows()"
   ]
  },
  {
   "cell_type": "markdown",
   "id": "abdf8da1",
   "metadata": {},
   "source": [
    "- cv2.fillPoly(그릴 위치, 그릴 좌표들, 색깔)"
   ]
  }
 ],
 "metadata": {
  "kernelspec": {
   "display_name": "Python 3 (ipykernel)",
   "language": "python",
   "name": "python3"
  },
  "language_info": {
   "codemirror_mode": {
    "name": "ipython",
    "version": 3
   },
   "file_extension": ".py",
   "mimetype": "text/x-python",
   "name": "python",
   "nbconvert_exporter": "python",
   "pygments_lexer": "ipython3",
   "version": "3.9.7"
  }
 },
 "nbformat": 4,
 "nbformat_minor": 5
}
