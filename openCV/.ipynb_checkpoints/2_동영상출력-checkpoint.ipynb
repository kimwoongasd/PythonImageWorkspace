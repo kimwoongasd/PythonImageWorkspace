{
 "cells": [
  {
   "cell_type": "markdown",
   "id": "cdbdd16a",
   "metadata": {},
   "source": [
    "# 2. 동영상 출력\n",
    "---\n",
    "- 여러 프레임이 연속적으로 보여짐으로써 움직이게 보이는 것이 동영상이다.\n",
    "- 라이브러리를 이용해서 동영상으로부터 프레임을 반복적으로 가져와서 보여주는 작업을 해보자."
   ]
  },
  {
   "cell_type": "markdown",
   "id": "0d2328af",
   "metadata": {},
   "source": [
    "## 동영상 파일 출력\n",
    "---"
   ]
  },
  {
   "cell_type": "code",
   "execution_count": 5,
   "id": "5d6933f1",
   "metadata": {},
   "outputs": [
    {
     "name": "stdout",
     "output_type": "stream",
     "text": [
      "사용자 입력에 의해 종료합니다\n"
     ]
    }
   ],
   "source": [
    "import cv2\n",
    "\n",
    "cap = cv2.VideoCapture(\"dog.mp4\")\n",
    "\n",
    "while cap.isOpened(): # 동영상이 파일이 올바로 열렸는지?\n",
    "    ret, frame = cap.read()\n",
    "    if not ret:\n",
    "        print(\"더 이상 가져올 프레임이 없어요\")\n",
    "        break\n",
    "    \n",
    "    cv2.imshow(\"video\", frame)\n",
    "    \n",
    "    # 반복문 탈출\n",
    "    if cv2.waitKey(25) == ord(\"q\"):\n",
    "        print(\"사용자 입력에 의해 종료합니다\")\n",
    "        break\n",
    "    \n",
    "cap.release() # 자연 해제\n",
    "cv2.destroyAllWindows() # 모든 창 닫기"
   ]
  },
  {
   "cell_type": "markdown",
   "id": "410948a5",
   "metadata": {},
   "source": [
    "- ret : 성공여부\n",
    "- frame : 받아온 이미지(프레임)\n",
    "- cv2.waitKey() 를 조절 하면 동영상 속도 조절이 가능하다\n",
    "- cv2.waitKey()는 print 한다면 아스키코드로 출력되기 떄문에 ord를 통해서 숫자로 변경하였다."
   ]
  },
  {
   "cell_type": "markdown",
   "id": "17bce802",
   "metadata": {},
   "source": [
    "## 카메라 출력\n",
    "---\n",
    "- 카메라가 없어서 코드만 작섣하였다."
   ]
  },
  {
   "cell_type": "code",
   "execution_count": null,
   "id": "68889408",
   "metadata": {},
   "outputs": [],
   "source": [
    "import cv2\n",
    "\n",
    "cap = cv2.VideoCapture(0) # 0번쨰 카메라 장치(Device ID)\n",
    "\n",
    "if not cap.isOpened(): # 카메라가 잘 열리지 않은 경우\n",
    "    exit() # 프로그램 종료\n",
    "    \n",
    "while True:\n",
    "    ret, frame = cap.read()\n",
    "    if not ret:\n",
    "        break\n",
    "    \n",
    "    cv2.imshow(\"camera\", frame)\n",
    "    \n",
    "    if cv2.waitKey(1) == ord(\"q\"):\n",
    "        break\n",
    "\n",
    "cap.release() # 자연 해제\n",
    "cv2.destroyAllWindows() # 모든 창 닫기  "
   ]
  },
  {
   "cell_type": "markdown",
   "id": "c185e1be",
   "metadata": {},
   "source": [
    "## 참고\n",
    "---\n",
    "[이미지/동영상](https://www.pexels.com/ko-kr/)"
   ]
  }
 ],
 "metadata": {
  "kernelspec": {
   "display_name": "Python 3 (ipykernel)",
   "language": "python",
   "name": "python3"
  },
  "language_info": {
   "codemirror_mode": {
    "name": "ipython",
    "version": 3
   },
   "file_extension": ".py",
   "mimetype": "text/x-python",
   "name": "python",
   "nbconvert_exporter": "python",
   "pygments_lexer": "ipython3",
   "version": "3.9.7"
  }
 },
 "nbformat": 4,
 "nbformat_minor": 5
}
