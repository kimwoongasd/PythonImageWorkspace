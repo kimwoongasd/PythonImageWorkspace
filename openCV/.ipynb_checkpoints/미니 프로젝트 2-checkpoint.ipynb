{
 "cells": [
  {
   "cell_type": "markdown",
   "id": "00fff053",
   "metadata": {},
   "source": [
    "# 미니 프로젝트 2\n",
    "---\n",
    "## 개별 카드 추출해서 파일 저장"
   ]
  },
  {
   "cell_type": "code",
   "execution_count": 2,
   "id": "41f05cf8",
   "metadata": {},
   "outputs": [],
   "source": [
    "import cv2\n",
    "\n",
    "img = cv2.imread(\"card.png\")\n",
    "target_img = img.copy()\n",
    "\n",
    "# 흑백 이미지\n",
    "gray = cv2.cvtColor(img, cv2.COLOR_BGR2GRAY)\n",
    "\n",
    "# 오츠 알고르즘 적용(Threshold 이진화)\n",
    "ret, otsu = cv2.threshold(gray, -1, 255, cv2.THRESH_BINARY | cv2.THRESH_OTSU)\n",
    "\n",
    "# 윤곽선 검출\n",
    "contours, hierarchy = cv2.findContours(otsu, cv2.RETR_LIST, cv2.CHAIN_APPROX_NONE)\n",
    "\n",
    "COLOR = (0, 200, 0) # 녹색\n",
    "idx = 1\n",
    "for cnt in contours:\n",
    "    if cv2.contourArea(cnt) > 25000:\n",
    "        x, y, width, height = cv2.boundingRect(cnt)\n",
    "        cv2.rectangle(target_img, (x, y), (x + width, y + height), COLOR, 2)\n",
    "\n",
    "        crop = img[y:y+height, x:x+width]\n",
    "        cv2.imshow(f\"card_crop{idx}\", crop)\n",
    "        cv2.imwrite(f\"card_crop{idx}.png\", crop)\n",
    "        idx += 1\n",
    "        \n",
    "cv2.imshow(\"img\", img)\n",
    "cv2.imshow(\"gray\", gray)\n",
    "cv2.imshow(\"otsu\", otsu)\n",
    "cv2.imshow(\"contour\", target_img)\n",
    "\n",
    "cv2.waitKey(0)\n",
    "cv2.destroyAllWindows()"
   ]
  },
  {
   "cell_type": "markdown",
   "id": "2534ea64",
   "metadata": {},
   "source": [
    " - 특정 크기 이상의 이미지를 윤곽선으로 찾아서 잘라내기 하여 카드를 저장하였다."
   ]
  }
 ],
 "metadata": {
  "kernelspec": {
   "display_name": "Python 3 (ipykernel)",
   "language": "python",
   "name": "python3"
  },
  "language_info": {
   "codemirror_mode": {
    "name": "ipython",
    "version": 3
   },
   "file_extension": ".py",
   "mimetype": "text/x-python",
   "name": "python",
   "nbconvert_exporter": "python",
   "pygments_lexer": "ipython3",
   "version": "3.9.7"
  }
 },
 "nbformat": 4,
 "nbformat_minor": 5
}
