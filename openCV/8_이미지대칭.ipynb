{
 "cells": [
  {
   "cell_type": "markdown",
   "id": "456b3a9b",
   "metadata": {},
   "source": [
    "# 8. 이미지 대칭\n",
    "---"
   ]
  },
  {
   "cell_type": "markdown",
   "id": "0a046964",
   "metadata": {},
   "source": [
    "## 좌우 대칭"
   ]
  },
  {
   "cell_type": "code",
   "execution_count": 3,
   "id": "f750f4b9",
   "metadata": {},
   "outputs": [],
   "source": [
    "import cv2\n",
    "\n",
    "img = cv2.imread(\"img.jpg\")\n",
    "flip_horizontal = cv2.flip(img, 1)\n",
    "\n",
    "cv2.imshow(\"img\", img)\n",
    "cv2.imshow(\"flip_horizontal\", flip_horizontal)\n",
    "cv2.waitKey(0)\n",
    "cv2.destroyAllWindows()"
   ]
  },
  {
   "cell_type": "markdown",
   "id": "c40f301e",
   "metadata": {},
   "source": [
    "- cv2.filp(img, filpCode) = filpCode > 0 : 좌우 대칭"
   ]
  },
  {
   "cell_type": "markdown",
   "id": "d1689e49",
   "metadata": {},
   "source": [
    "## 상하 대칭"
   ]
  },
  {
   "cell_type": "code",
   "execution_count": 5,
   "id": "ca6d4131",
   "metadata": {},
   "outputs": [],
   "source": [
    "import cv2\n",
    "\n",
    "img = cv2.imread(\"img.jpg\")\n",
    "flip_vertical = cv2.flip(img, 0)\n",
    "\n",
    "cv2.imshow(\"img\", img)\n",
    "cv2.imshow(\"flip_vertical\", flip_vertical)\n",
    "cv2.waitKey(0)\n",
    "cv2.destroyAllWindows()"
   ]
  },
  {
   "cell_type": "markdown",
   "id": "d6dd8ce0",
   "metadata": {},
   "source": [
    "- cv2.filp(img, filpCode) = filpCode == 0 : 상하 대칭"
   ]
  },
  {
   "cell_type": "markdown",
   "id": "781791f3",
   "metadata": {},
   "source": [
    "## 상하좌우 대칭"
   ]
  },
  {
   "cell_type": "code",
   "execution_count": 6,
   "id": "fe682dc6",
   "metadata": {},
   "outputs": [],
   "source": [
    "import cv2\n",
    "\n",
    "img = cv2.imread(\"img.jpg\")\n",
    "flip_both = cv2.flip(img, -1)\n",
    "\n",
    "cv2.imshow(\"img\", img)\n",
    "cv2.imshow(\"flip_both\", flip_both)\n",
    "cv2.waitKey(0)\n",
    "cv2.destroyAllWindows()"
   ]
  },
  {
   "cell_type": "markdown",
   "id": "0785d6ee",
   "metadata": {},
   "source": [
    "- cv2.filp(img, filpCode) = filpCode < 0 : 상하좌우 대칭"
   ]
  },
  {
   "cell_type": "markdown",
   "id": "c08627a3",
   "metadata": {},
   "source": [
    "# 동영상 대칭\n",
    "---"
   ]
  },
  {
   "cell_type": "markdown",
   "id": "de713506",
   "metadata": {},
   "source": [
    "## 좌우 대칭"
   ]
  },
  {
   "cell_type": "code",
   "execution_count": 9,
   "id": "55bd2ea5",
   "metadata": {},
   "outputs": [],
   "source": [
    "import cv2\n",
    "\n",
    "cap = cv2.VideoCapture(\"dog.mp4\")\n",
    "\n",
    "while cap.isOpened():\n",
    "    ret, frame = cap.read()\n",
    "    if not ret:\n",
    "        break\n",
    "    \n",
    "    flip_horizontal = cv2.flip(frame, 1)\n",
    "    cv2.imshow(\"flip_horizontal\", flip_horizontal)\n",
    "    cv2.imshow(\"video\", frame)\n",
    "    if cv2.waitKey(2) == ord(\"q\"):\n",
    "        break\n",
    "        \n",
    "cap.release()\n",
    "cv2.destroyAllWindows()"
   ]
  },
  {
   "cell_type": "markdown",
   "id": "c1364378",
   "metadata": {},
   "source": [
    "## 상하 대칭"
   ]
  },
  {
   "cell_type": "code",
   "execution_count": 10,
   "id": "be081f7f",
   "metadata": {},
   "outputs": [],
   "source": [
    "import cv2\n",
    "\n",
    "cap = cv2.VideoCapture(\"dog.mp4\")\n",
    "\n",
    "while cap.isOpened():\n",
    "    ret, frame = cap.read()\n",
    "    if not ret:\n",
    "        break\n",
    "    \n",
    "    flip_vertical = cv2.flip(frame, 0)\n",
    "    cv2.imshow(\"flip_vertical\", flip_vertical)\n",
    "    cv2.imshow(\"video\", frame)\n",
    "    if cv2.waitKey(2) == ord(\"q\"):\n",
    "        break\n",
    "        \n",
    "cap.release()\n",
    "cv2.destroyAllWindows()"
   ]
  },
  {
   "cell_type": "markdown",
   "id": "7a19d380",
   "metadata": {},
   "source": [
    "## 상하좌우 대칭"
   ]
  },
  {
   "cell_type": "code",
   "execution_count": 11,
   "id": "4febdf43",
   "metadata": {},
   "outputs": [],
   "source": [
    "import cv2\n",
    "\n",
    "cap = cv2.VideoCapture(\"dog.mp4\")\n",
    "\n",
    "while cap.isOpened():\n",
    "    ret, frame = cap.read()\n",
    "    if not ret:\n",
    "        break\n",
    "    \n",
    "    flip_both = cv2.flip(frame, -1)\n",
    "    cv2.imshow(\"flip_both\", flip_both)\n",
    "    cv2.imshow(\"video\", frame)\n",
    "    if cv2.waitKey(2) == ord(\"q\"):\n",
    "        break\n",
    "        \n",
    "cap.release()\n",
    "cv2.destroyAllWindows()"
   ]
  }
 ],
 "metadata": {
  "kernelspec": {
   "display_name": "Python 3 (ipykernel)",
   "language": "python",
   "name": "python3"
  },
  "language_info": {
   "codemirror_mode": {
    "name": "ipython",
    "version": 3
   },
   "file_extension": ".py",
   "mimetype": "text/x-python",
   "name": "python",
   "nbconvert_exporter": "python",
   "pygments_lexer": "ipython3",
   "version": "3.9.7"
  }
 },
 "nbformat": 4,
 "nbformat_minor": 5
}
