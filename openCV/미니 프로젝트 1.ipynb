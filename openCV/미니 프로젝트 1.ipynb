{
 "cells": [
  {
   "cell_type": "markdown",
   "id": "8a3baac7",
   "metadata": {},
   "source": [
    "# 미니 프로젝트 : 반자동 문서 스캐너\n",
    "---"
   ]
  },
  {
   "cell_type": "markdown",
   "id": "8f670989",
   "metadata": {},
   "source": [
    "## 마우스 이벤트 등록"
   ]
  },
  {
   "cell_type": "code",
   "execution_count": 1,
   "id": "d8b9f567",
   "metadata": {},
   "outputs": [],
   "source": [
    "import cv2\n",
    "\n",
    "def mouse_handler(event, x, y, flags, param):\n",
    "    # 마우스 왼쪽 버튼 DOWN\n",
    "    if event == cv2.EVENT_LBUTTONDOWN:\n",
    "        print(\"왼쪽 버튼 DOWN\")\n",
    "    # 마우스 왼쪽 버튼 UP   \n",
    "    elif event == cv2.EVENT_LBUTTONUP:\n",
    "        print(\"왼쪽 버튼 UP\")\n",
    "        print(x, y)\n",
    "    \n",
    "    elif event == cv2.EVENT_LBUTTONDBLCLK:\n",
    "        print(\"왼쪽 버튼 더블 클릭\")\n",
    "    \n",
    "#     elif event == cv2.EVENT_MOUSEMOVE:\n",
    "#         print(\"마우스 이동\")\n",
    "        \n",
    "    elif event == cv2.EVENT_RBUTTONDOWN:\n",
    "        print(\"오른쪽 버튼 DOWN\")\n",
    "        \n",
    "    elif event == cv2.EVENT_RBUTTONUP:\n",
    "        print(\"오른쪽 버튼 UP\")\n",
    "        print(x, y)\n",
    "    \n",
    "    elif event == cv2.EVENT_RBUTTONDBLCLK:\n",
    "        print(\"오른쪽 버튼 더블 클릭\")    \n",
    "    \n",
    "\n",
    "img = cv2.imread(\"poker.jpg\")\n",
    "\n",
    "# img란 이름의 윈도우를 먼저 만들어 준다.\n",
    "# 여기에 마우스 이벤트를 처리하기 우ㅐ한 핸들러 적용\n",
    "cv2.namedWindow(\"img\")\n",
    "cv2.setMouseCallback(\"img\", mouse_handler)\n",
    "\n",
    "cv2.imshow(\"img\", img)\n",
    "cv2.waitKey(0)\n",
    "cv2.destroyAllWindows()"
   ]
  },
  {
   "cell_type": "markdown",
   "id": "bc212039",
   "metadata": {},
   "source": [
    "- 마우스 이벤트를 등록하기 위해서는 윈도우(창)을 정의 해야한다."
   ]
  },
  {
   "cell_type": "markdown",
   "id": "bf9af2a8",
   "metadata": {},
   "source": [
    "## 프로젝트\n",
    "- 클릭을 통해 input 4개의 점을 함수를 통해서 표시하고 자동으로 이미지 변형을 해보자"
   ]
  },
  {
   "cell_type": "code",
   "execution_count": 2,
   "id": "db82e14e",
   "metadata": {},
   "outputs": [],
   "source": [
    "import cv2\n",
    "import numpy as np\n",
    "\n",
    "def mouse_handler(event, x, y, flags, param):\n",
    "    # 마우스 왼쪽 버튼 DOWN\n",
    "    if event == cv2.EVENT_LBUTTONDOWN:\n",
    "        point_list.append((x, y))\n",
    "    \n",
    "    for point in point_list:\n",
    "        cv2.circle(src_img, point, 15, COLOR, cv2.FILLED)\n",
    "    \n",
    "    if len(point_list) == 4:\n",
    "        shoqw_result()\n",
    "    \n",
    "    cv2.imshow(\"img\", src_img)\n",
    "    \n",
    "# 좌표 4개일 떄 결과물 출력\n",
    "def shoqw_result():\n",
    "    width, height = 530, 710\n",
    "    src = np.float32(point_list)\n",
    "    dst = np.array([[0, 0], [width, 0], [width, height], [0, height]], dtype=np.float32)\n",
    "\n",
    "    matrix = cv2.getPerspectiveTransform(src, dst)\n",
    "    result = cv2.warpPerspective(src_img, matrix, (width, height))\n",
    "    \n",
    "    cv2.imshow(\"result\", result)\n",
    "    \n",
    "    \n",
    "COLOR = (255, 0, 255)\n",
    "        \n",
    "point_list = []    \n",
    "src_img = cv2.imread(\"poker.jpg\")\n",
    "\n",
    "cv2.namedWindow(\"img\")\n",
    "cv2.setMouseCallback(\"img\", mouse_handler)\n",
    "\n",
    "cv2.imshow(\"img\", src_img)\n",
    "cv2.waitKey(0)\n",
    "cv2.destroyAllWindows()"
   ]
  },
  {
   "cell_type": "markdown",
   "id": "a13d6683",
   "metadata": {},
   "source": [
    "- 마우스 클릭했을 때 x, y 좌표를 리스트에 저장한다.\n",
    "- for문을 통해서 클릭한 좌표를 circle를 통해서 표시한다.\n",
    "- 마우스 클릭 될 때마다 변경된 이미지를 계속 덮어 씌운다."
   ]
  },
  {
   "cell_type": "markdown",
   "id": "dc580e24",
   "metadata": {},
   "source": [
    "### 지점 선 긋기\n",
    "- 마우스 점을 찍고 다음 점을 찍을 떄 까지 선이 실시간으로 표시 되도록 만들어 보자"
   ]
  },
  {
   "cell_type": "code",
   "execution_count": 3,
   "id": "db941e3a",
   "metadata": {},
   "outputs": [],
   "source": [
    "import cv2\n",
    "import numpy as np\n",
    "\n",
    "def mouse_handler(event, x, y, flags, param):\n",
    "    global drawing\n",
    "    dst_img = src_img.copy()\n",
    "    \n",
    "    # 마우스 왼쪽 버튼 DOWN\n",
    "    if event == cv2.EVENT_LBUTTONDOWN:\n",
    "        drawing = True # 선을 그리기 시작\n",
    "        point_list.append((x, y))\n",
    "    \n",
    "    if drawing:\n",
    "        prev_point = None # 직선의 시작점\n",
    "        for point in point_list:\n",
    "            cv2.circle(dst_img, point, 15, COLOR, cv2.FILLED)\n",
    "            if prev_point:\n",
    "                cv2.line(dst_img, prev_point, point, COLOR, THICKNESS, cv2.LINE_AA)\n",
    "            prev_point = point\n",
    "        \n",
    "        next_point = (x, y)\n",
    "        if len(point_list) == 4:\n",
    "            shoqw_result()\n",
    "            next_point = point_list[0]\n",
    "        cv2.line(dst_img, prev_point, next_point, COLOR, THICKNESS, cv2.LINE_AA)\n",
    "        \n",
    "    \n",
    "    cv2.imshow(\"img\", dst_img)\n",
    "    \n",
    "# 좌표 4개일 떄 결과물 출력\n",
    "def shoqw_result():\n",
    "    width, height = 530, 710\n",
    "    src = np.float32(point_list)\n",
    "    dst = np.array([[0, 0], [width, 0], [width, height], [0, height]], dtype=np.float32)\n",
    "\n",
    "    matrix = cv2.getPerspectiveTransform(src, dst)\n",
    "    result = cv2.warpPerspective(src_img, matrix, (width, height))\n",
    "    \n",
    "    cv2.imshow(\"result\", result)\n",
    "    \n",
    "    \n",
    "COLOR = (255, 0, 255) # 핑크\n",
    "THICKNESS = 3\n",
    "drawing = False # 선을 그릴지 여부\n",
    "        \n",
    "point_list = []    \n",
    "src_img = cv2.imread(\"poker.jpg\")\n",
    "\n",
    "cv2.namedWindow(\"img\")\n",
    "cv2.setMouseCallback(\"img\", mouse_handler)\n",
    "\n",
    "cv2.imshow(\"img\", src_img)\n",
    "cv2.waitKey(0)\n",
    "cv2.destroyAllWindows()"
   ]
  },
  {
   "cell_type": "markdown",
   "id": "310620d2",
   "metadata": {},
   "source": [
    "- 함수 안에 img를 카피한 이유는 카피 하지 않으면 이미지가 계속 덮어씌우면서 선이 따라 다니면서 칠해지기 때문이다.\n",
    "- drawing 변수를 통해서 점이 없다면 선을 그리지 않도록 설정 했다.\n",
    "- 점이 2개 있어야 선을 그릴 수 있기 때문에 위에 조건을 주었다.\n",
    "- 마우스가 움직임에 따라 x, y 좌표가 실시간으로 변하는 것을 활용하여 실시간으로 선이 보이게 설정 하였다."
   ]
  }
 ],
 "metadata": {
  "kernelspec": {
   "display_name": "Python 3 (ipykernel)",
   "language": "python",
   "name": "python3"
  },
  "language_info": {
   "codemirror_mode": {
    "name": "ipython",
    "version": 3
   },
   "file_extension": ".py",
   "mimetype": "text/x-python",
   "name": "python",
   "nbconvert_exporter": "python",
   "pygments_lexer": "ipython3",
   "version": "3.9.7"
  }
 },
 "nbformat": 4,
 "nbformat_minor": 5
}
