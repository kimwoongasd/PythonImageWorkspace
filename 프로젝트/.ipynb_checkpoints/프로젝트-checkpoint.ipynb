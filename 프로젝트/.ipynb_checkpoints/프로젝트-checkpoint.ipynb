{
 "cells": [
  {
   "cell_type": "markdown",
   "id": "0a83bf31",
   "metadata": {},
   "source": [
    "# 프로젝트 : 얼굴을 인식하여 캐릭터 씌우기\n",
    "---\n",
    "## Face Detection\n",
    "- 이미지나 동영상에서 특징을 찾아서 얼굴을 찾는다.\n",
    "\n",
    "## Face Recognition\n",
    "- 얼굴 인식을 통해 누구인지 알 수 있다."
   ]
  },
  {
   "cell_type": "markdown",
   "id": "dfaa4a3d",
   "metadata": {},
   "source": [
    "패키지 설치\n",
    "> pip install mediapipe  \n",
    "\n",
    "오류 날 때\n",
    "> pip install --user mediapipe"
   ]
  },
  {
   "cell_type": "markdown",
   "id": "8bb60f52",
   "metadata": {},
   "source": [
    "## 기본 코드 정리\n",
    "---"
   ]
  },
  {
   "cell_type": "code",
   "execution_count": 1,
   "id": "359edb28",
   "metadata": {},
   "outputs": [],
   "source": [
    "import cv2\n",
    "import mediapipe as mp\n",
    "\n",
    "# 얼굴을 찾고, 찾은 얼굴에 표시를 해주기 위한 변수 정의\n",
    "mp_face_detection = mp.solutions.face_detection\n",
    "mp_drawing = mp.solutions.drawing_utils\n",
    "\n",
    "# 동영상 파일 열기\n",
    "cap = cv2.VideoCapture(\"face_video.mp4\")\n",
    "\n",
    "\n",
    "with mp_face_detection.FaceDetection(model_selection=0, min_detection_confidence=0.7) as face_detection:\n",
    "    while cap.isOpened():\n",
    "        success, image = cap.read()\n",
    "        if not success:\n",
    "            break\n",
    "\n",
    "        # To improve performance, optionally mark the image as not writeable to\n",
    "        # pass by reference.\n",
    "        image.flags.writeable = False\n",
    "        # BGR 값을 RBG 값으로 변환\n",
    "        image = cv2.cvtColor(image, cv2.COLOR_BGR2RGB)\n",
    "        # 얼굴을 검출하여 결과로 반환\n",
    "        results = face_detection.process(image)\n",
    "\n",
    "        # Draw the face detection annotations on the image.\n",
    "        image.flags.writeable = True\n",
    "        # RBG를 BGR로 변환\n",
    "        image = cv2.cvtColor(image, cv2.COLOR_RGB2BGR)\n",
    "        \n",
    "        # 검출 된 얼굴이 있다면\n",
    "        if results.detections:\n",
    "             # 6개 특징 : 오른쪽 눈, 왼쪽 눈, 코 끝부분, 입 중심, 오른쪽 귀, 왼쪽 귀\n",
    "            for detection in results.detections:\n",
    "                # 반복문을 통해서 얼굴에 네모나 점등 표시한다.\n",
    "                mp_drawing.draw_detection(image, detection)\n",
    "                \n",
    "        # 캠에서 보여주면 좌우 반전을 해야 보기 편하지만 동영상을 사용하기 때문에 Flip은 안써도 된다.\n",
    "        cv2.imshow('MediaPipe Face Detection', cv2.resize(image, None, fx=0.5, fy=0.5))\n",
    "        if cv2.waitKey(1) == ord(\"q\"):\n",
    "            break\n",
    "            \n",
    "cap.release()\n",
    "cv2.destroyAllWindows()"
   ]
  },
  {
   "cell_type": "markdown",
   "id": "541f21e1",
   "metadata": {},
   "source": [
    "- 얼굴을 찾고, 찾은 얼굴에 표시를 해주기 위한 변수 정의\n",
    "> mp.solutions.face_detection = 얼굴 검출을 위한 face_detection 모듈 사용  \n",
    "> mp.solutions.drawing_utils = 얼굴의 특징을 그리기 위한 drawing_utils 모듈 사용  "
   ]
  },
  {
   "cell_type": "markdown",
   "id": "3eca8c37",
   "metadata": {},
   "source": [
    "- FaceDetection 함수 정의\n",
    "> FaceDetection(model_selection(카메라로 부터 거리), min_detection_confidence(어느 정도의 퍼센트 이상되면 얼굴로 인식))\n",
    ">> model_selection = 0 : 카메라로 부터 2m 이내 근거리에 적합\n",
    ">> model_selection = 1 : 카메라로 부터 5m 이내 적합"
   ]
  },
  {
   "cell_type": "markdown",
   "id": "f45f3de4",
   "metadata": {},
   "source": [
    "## 눈과 코 인식하여 도형 그리기\n",
    "---"
   ]
  },
  {
   "cell_type": "code",
   "execution_count": 2,
   "id": "a7bb27cd",
   "metadata": {},
   "outputs": [],
   "source": [
    "import cv2\n",
    "import mediapipe as mp\n",
    "\n",
    "# 얼굴을 찾고, 찾은 얼굴에 표시를 해주기 위한 변수 정의\n",
    "mp_face_detection = mp.solutions.face_detection\n",
    "mp_drawing = mp.solutions.drawing_utils\n",
    "\n",
    "# 동영상 파일 열기\n",
    "cap = cv2.VideoCapture(\"face_video.mp4\")\n",
    "\n",
    "\n",
    "with mp_face_detection.FaceDetection(model_selection=0, min_detection_confidence=0.7) as face_detection:\n",
    "    while cap.isOpened():\n",
    "        success, image = cap.read()\n",
    "        if not success:\n",
    "            break\n",
    "\n",
    "        # To improve performance, optionally mark the image as not writeable to\n",
    "        # pass by reference.\n",
    "        image.flags.writeable = False\n",
    "        # BGR 값을 RBG 값으로 변환\n",
    "        image = cv2.cvtColor(image, cv2.COLOR_BGR2RGB)\n",
    "        # 얼굴을 검출하여 결과로 반환\n",
    "        results = face_detection.process(image)\n",
    "\n",
    "        # Draw the face detection annotations on the image.\n",
    "        image.flags.writeable = True\n",
    "        # RBG를 BGR로 변환\n",
    "        image = cv2.cvtColor(image, cv2.COLOR_RGB2BGR)\n",
    "        \n",
    "        # 검출 된 얼굴이 있다면\n",
    "        if results.detections:\n",
    "            # 6개 특징 : 오른쪽 눈, 왼쪽 눈, 코 끝부분, 입 중심, 오른쪽 귀, 왼쪽 귀\n",
    "            for detection in results.detections:\n",
    "                # 반복문을 통해서 얼굴에 네모나 점등 표시한다.\n",
    "                # mp_drawing.draw_detection(image, detection)\n",
    "                # print(detection)\n",
    "\n",
    "                # 특정 위치 가져오기\n",
    "                keypoints = detection.location_data.relative_keypoints\n",
    "                right_eye = keypoints[0] # 오른쪽 눈\n",
    "                left_eye = keypoints[1] # 왼쪽 눈\n",
    "                nose = keypoints[2] # 코 끝부분\n",
    "                \n",
    "                h, w, _ = image.shape # height, width, channel : 이미지로 부터 세로 가로 크기 가져옴\n",
    "                \n",
    "                # 이미지 내에서 실제 좌표(x, y)\n",
    "                right_eye = (int(right_eye.x * w), int(right_eye.y * h))\n",
    "                left_eye = (int(left_eye.x * w), int(left_eye.y * h))\n",
    "                nose = (int(nose.x * w), int(nose.y * h))\n",
    "                \n",
    "                # 양 눈 동그라미 그리기\n",
    "                cv2.circle(image, right_eye, 50, (255, 0, 0), 10, cv2.LINE_AA)\n",
    "                cv2.circle(image, left_eye, 50, (0, 255, 0), 10, cv2.LINE_AA)\n",
    "                cv2.circle(image, nose, 75, (0, 255, 255), 10, cv2.LINE_AA)\n",
    "                \n",
    "                \n",
    "        # 켐에서 보여주면 좌우 반전을 해야 보기 편하지만 동영상을 사용하기 때문에 Flip은 안써도 된다.\n",
    "        cv2.imshow('MediaPipe Face Detection', cv2.resize(image, None, fx=0.5, fy=0.5))\n",
    "        if cv2.waitKey(1) == ord(\"q\"):\n",
    "            break\n",
    "            \n",
    "cap.release()\n",
    "cv2.destroyAllWindows()"
   ]
  },
  {
   "cell_type": "markdown",
   "id": "40c0956d",
   "metadata": {},
   "source": [
    "#### print(detection) 를 통하여 정보를 알 수 있다\n",
    "---\n",
    "label_id: 0  \n",
    "score: 0.972063422203064 - 신뢰도(min_detection_confidence)\n",
    "\n",
    "- 위치 좌표(전체 이미지 기준(최대 1)  \n",
    "location_data {\n",
    "  format: RELATIVE_BOUNDING_BOX  \n",
    "  relative_bounding_box {  \n",
    "    xmin: 0.34010049700737  \n",
    "    ymin: 0.27738773822784424  \n",
    "    width: 0.16470429301261902  \n",
    "    height: 0.2928076982498169  \n",
    "  }  \n",
    "    \n",
    "  - 6개 특징 : 오른쪽 눈, 왼쪽 눈, 코 끝부분, 입 중심, 오른쪽 귀, 왼쪽 귀\n",
    "  relative_keypoints {\n",
    "    x: 0.39748260378837585\n",
    "    y: 0.3514038920402527\n",
    "  }\n",
    "  relative_keypoints {\n",
    "    x: 0.472693532705307\n",
    "    y: 0.3491246700286865\n",
    "  }\n",
    "  relative_keypoints {\n",
    "    x: 0.4475392699241638\n",
    "    y: 0.41251301765441895\n",
    "  }\n",
    "  relative_keypoints {\n",
    "    x: 0.4445818364620209\n",
    "    y: 0.4767593741416931\n",
    "  }\n",
    "  relative_keypoints {\n",
    "    x: 0.3378288745880127\n",
    "    y: 0.39561253786087036\n",
    "  }\n",
    "  relative_keypoints {\n",
    "    x: 0.49736836552619934\n",
    "    y: 0.38518768548965454\n",
    "  }\n",
    "}"
   ]
  },
  {
   "cell_type": "markdown",
   "id": "c6103397",
   "metadata": {},
   "source": [
    "### 위치 좌표 찾기\n",
    "- 이미지의 크기에 따라 x, y 좌표를 곱해줘야 한다."
   ]
  },
  {
   "cell_type": "markdown",
   "id": "e795e5d7",
   "metadata": {},
   "source": [
    "## 그림판 이미지 씌우기\n",
    "---"
   ]
  },
  {
   "cell_type": "code",
   "execution_count": 3,
   "id": "3c2debbf",
   "metadata": {},
   "outputs": [],
   "source": [
    "import cv2\n",
    "import mediapipe as mp\n",
    "\n",
    "# 얼굴을 찾고, 찾은 얼굴에 표시를 해주기 위한 변수 정의\n",
    "mp_face_detection = mp.solutions.face_detection\n",
    "mp_drawing = mp.solutions.drawing_utils\n",
    "\n",
    "# 동영상 파일 열기\n",
    "cap = cv2.VideoCapture(\"face_video.mp4\")\n",
    "\n",
    "# 이미지 불러오기(가로 x 세로)\n",
    "image_right_eye = cv2.imread(\"right_eye.png\") # 100 x 100\n",
    "image_left_eye = cv2.imread(\"left_eye.png\") # 100 x 100\n",
    "image_nose = cv2.imread(\"nose.png\") # 300 x 100\n",
    "\n",
    "with mp_face_detection.FaceDetection(model_selection=0, min_detection_confidence=0.7) as face_detection:\n",
    "    while cap.isOpened():\n",
    "        success, image = cap.read()\n",
    "        if not success:\n",
    "            break\n",
    "\n",
    "        # To improve performance, optionally mark the image as not writeable to\n",
    "        # pass by reference.\n",
    "        image.flags.writeable = False\n",
    "        # BGR 값을 RBG 값으로 변환\n",
    "        image = cv2.cvtColor(image, cv2.COLOR_BGR2RGB)\n",
    "        # 얼굴을 검출하여 결과로 반환\n",
    "        results = face_detection.process(image)\n",
    "\n",
    "        # Draw the face detection annotations on the image.\n",
    "        image.flags.writeable = True\n",
    "        # RBG를 BGR로 변환\n",
    "        image = cv2.cvtColor(image, cv2.COLOR_RGB2BGR)\n",
    "        \n",
    "        # 검출 된 얼굴이 있다면\n",
    "        if results.detections:\n",
    "            # 6개 특징 : 오른쪽 눈, 왼쪽 눈, 코 끝부분, 입 중심, 오른쪽 귀, 왼쪽 귀\n",
    "            for detection in results.detections:\n",
    "                # 반복문을 통해서 얼굴에 네모나 점등 표시한다.\n",
    "                # mp_drawing.draw_detection(image, detection)\n",
    "                # print(detection)\n",
    "\n",
    "                # 특정 위치 가져오기\n",
    "                keypoints = detection.location_data.relative_keypoints\n",
    "                right_eye = keypoints[0] # 오른쪽 눈\n",
    "                left_eye = keypoints[1] # 왼쪽 눈\n",
    "                nose = keypoints[2] # 코 끝부분\n",
    "                \n",
    "                h, w, _ = image.shape # height, width, channel : 이미지로 부터 세로 가로 크기 가져옴\n",
    "                \n",
    "                # 이미지 내에서 실제 좌표(x, y)\n",
    "                right_eye = (int(right_eye.x * w) - 20, int(right_eye.y * h) - 100)\n",
    "                left_eye = (int(left_eye.x * w) - 20, int(left_eye.y * h) - 100)\n",
    "                nose = (int(nose.x * w), int(nose.y * h))\n",
    "                \n",
    "                # 각 특징에 이미지 그리기\n",
    "                image[right_eye[1] - 50:right_eye[1] + 50, right_eye[0]-50:right_eye[0]+50] = image_right_eye\n",
    "                image[left_eye[1] - 50:left_eye[1] + 50, left_eye[0]-50:left_eye[0]+50] = image_left_eye\n",
    "                image[nose[1] - 50:nose[1] + 50, nose[0]-150:nose[0]+150] = image_nose\n",
    "                \n",
    "                \n",
    "        # 켐에서 보여주면 좌우 반전을 해야 보기 편하지만 동영상을 사용하기 때문에 Flip은 안써도 된다.\n",
    "        cv2.imshow('MediaPipe Face Detection', cv2.resize(image, None, fx=0.5, fy=0.5))\n",
    "        if cv2.waitKey(1) == ord(\"q\"):\n",
    "            break\n",
    "            \n",
    "cap.release()\n",
    "cv2.destroyAllWindows()"
   ]
  },
  {
   "cell_type": "markdown",
   "id": "1027f85b",
   "metadata": {},
   "source": [
    "### 위치 좌표\n",
    "- 각 특징은 중간 점이므로 가로, 세로 크기의 절반 값을 +/- 를 해주었다.\n",
    "- 값을 모를 때\n",
    "> image.shape를 통해서 할 수 있다."
   ]
  },
  {
   "cell_type": "markdown",
   "id": "89be435c",
   "metadata": {},
   "source": [
    "## 캐릭터 이미지 씌우기\n",
    "---"
   ]
  },
  {
   "cell_type": "code",
   "execution_count": 4,
   "id": "66bc612c",
   "metadata": {},
   "outputs": [
    {
     "data": {
      "text/plain": [
       "(100, 100, 3)"
      ]
     },
     "execution_count": 4,
     "metadata": {},
     "output_type": "execute_result"
    }
   ],
   "source": [
    "import cv2\n",
    "im = cv2.imread(\"cat_left_ear.png\")\n",
    "im.shape"
   ]
  },
  {
   "cell_type": "markdown",
   "id": "634d5d9d",
   "metadata": {},
   "source": [
    "> channel 값이 3이라고 나온다 -> 3이면 BGR값만 가져온 것이다.  \n",
    "옵션을 적용해 주지않으면 투명도가 무시된다."
   ]
  },
  {
   "cell_type": "code",
   "execution_count": 5,
   "id": "8844fb02",
   "metadata": {},
   "outputs": [
    {
     "data": {
      "text/plain": [
       "(100, 300, 4)"
      ]
     },
     "execution_count": 5,
     "metadata": {},
     "output_type": "execute_result"
    }
   ],
   "source": [
    "import cv2\n",
    "im = cv2.imread(\"cat_nose.png\", cv2.IMREAD_UNCHANGED)\n",
    "im.shape"
   ]
  },
  {
   "cell_type": "code",
   "execution_count": 8,
   "id": "f306c4fd",
   "metadata": {},
   "outputs": [],
   "source": [
    "import cv2\n",
    "import mediapipe as mp\n",
    "\n",
    "# 얼굴을 찾고, 찾은 얼굴에 표시를 해주기 위한 변수 정의\n",
    "mp_face_detection = mp.solutions.face_detection\n",
    "mp_drawing = mp.solutions.drawing_utils\n",
    "\n",
    "# 동영상 파일 열기\n",
    "cap = cv2.VideoCapture(\"face_video.mp4\")\n",
    "\n",
    "# 이미지 불러오기(가로 x 세로)\n",
    "image_right_eye = cv2.imread(\"cat_right_ear.png\") # 100 x 100\n",
    "image_left_eye = cv2.imread(\"cat_left_ear.png\") # 100 x 100\n",
    "image_nose = cv2.imread(\"cat_nose.png\") # 300 x 100\n",
    "\n",
    "with mp_face_detection.FaceDetection(model_selection=0, min_detection_confidence=0.7) as face_detection:\n",
    "    while cap.isOpened():\n",
    "        success, image = cap.read()\n",
    "        if not success:\n",
    "            break\n",
    "\n",
    "        # To improve performance, optionally mark the image as not writeable to\n",
    "        # pass by reference.\n",
    "        image.flags.writeable = False\n",
    "        # BGR 값을 RBG 값으로 변환\n",
    "        image = cv2.cvtColor(image, cv2.COLOR_BGR2RGB)\n",
    "        # 얼굴을 검출하여 결과로 반환\n",
    "        results = face_detection.process(image)\n",
    "\n",
    "        # Draw the face detection annotations on the image.\n",
    "        image.flags.writeable = True\n",
    "        # RBG를 BGR로 변환\n",
    "        image = cv2.cvtColor(image, cv2.COLOR_RGB2BGR)\n",
    "        \n",
    "        # 검출 된 얼굴이 있다면\n",
    "        if results.detections:\n",
    "            # 6개 특징 : 오른쪽 눈, 왼쪽 눈, 코 끝부분, 입 중심, 오른쪽 귀, 왼쪽 귀\n",
    "            for detection in results.detections:\n",
    "                # 반복문을 통해서 얼굴에 네모나 점등 표시한다.\n",
    "                # mp_drawing.draw_detection(image, detection)\n",
    "                # print(detection)\n",
    "\n",
    "                # 특정 위치 가져오기\n",
    "                keypoints = detection.location_data.relative_keypoints\n",
    "                right_eye = keypoints[0] # 오른쪽 눈\n",
    "                left_eye = keypoints[1] # 왼쪽 눈\n",
    "                nose = keypoints[2] # 코 끝부분\n",
    "                \n",
    "                h, w, _ = image.shape # height, width, channel : 이미지로 부터 세로 가로 크기 가져옴\n",
    "                \n",
    "                # 이미지 내에서 실제 좌표(x, y)\n",
    "                right_eye = (int(right_eye.x * w) - 20, int(right_eye.y * h) - 100)\n",
    "                left_eye = (int(left_eye.x * w) - 20, int(left_eye.y * h) - 100)\n",
    "                nose = (int(nose.x * w), int(nose.y * h))\n",
    "                \n",
    "                # 각 특징에 이미지 그리기\n",
    "                image[right_eye[1] - 50:right_eye[1] + 50, right_eye[0]-50:right_eye[0]+50] = image_right_eye\n",
    "                image[left_eye[1] - 50:left_eye[1] + 50, left_eye[0]-50:left_eye[0]+50] = image_left_eye\n",
    "                image[nose[1] - 50:nose[1] + 50, nose[0]-150:nose[0]+150] = image_nose\n",
    "                \n",
    "                \n",
    "        # 켐에서 보여주면 좌우 반전을 해야 보기 편하지만 동영상을 사용하기 때문에 Flip은 안써도 된다.\n",
    "        cv2.imshow('MediaPipe Face Detection', cv2.resize(image, None, fx=0.5, fy=0.5))\n",
    "        if cv2.waitKey(1) == ord(\"q\"):\n",
    "            break\n",
    "            \n",
    "cap.release()\n",
    "cv2.destroyAllWindows()"
   ]
  },
  {
   "cell_type": "markdown",
   "id": "3332aba9",
   "metadata": {},
   "source": [
    "- cv2.IMREAD_UNCHANGED하여 파일을 읽는다면\n",
    "> 대상 동영상은 3채널이고 이미지는 4채널이기 떄문에 오류가 발생 \n",
    "\n",
    "- cv2.IMREAD_UNCHANGED 넣지 않을 경우\n",
    "> 투명도가 무시되어 코드는 실행되지만 뒤에 배경을 지울 수가 없음"
   ]
  },
  {
   "cell_type": "markdown",
   "id": "3dce13fc",
   "metadata": {},
   "source": [
    "### 이미지 channel이 4인 경우"
   ]
  },
  {
   "cell_type": "code",
   "execution_count": 7,
   "id": "7c380313",
   "metadata": {},
   "outputs": [],
   "source": [
    "import cv2\n",
    "import mediapipe as mp\n",
    "\n",
    "# 대상 이미지(3채널), x, y좌표, width, height, 덮어씌울 이미지(4채널)\n",
    "def overlay(img, x, y, w, h, overlay_image):\n",
    "    alpha = overlay_image[:, :, 3]\n",
    "    mask_image = alpha / 255 # 0 ~ 1 사이의 값\n",
    "    \n",
    "    # channel BRG\n",
    "    for c in range(0, 3):\n",
    "        image[y-h:y+h, x-w:x+w, c] = (overlay_image[:, :, c] * mask_image) + (image[y-h:y+h, x-w:x+w, c] * (1 - mask_image))\n",
    "\n",
    "# 얼굴을 찾고, 찾은 얼굴에 표시를 해주기 위한 변수 정의\n",
    "mp_face_detection = mp.solutions.face_detection\n",
    "mp_drawing = mp.solutions.drawing_utils\n",
    "\n",
    "# 동영상 파일 열기\n",
    "cap = cv2.VideoCapture(\"face_video.mp4\")\n",
    "\n",
    "# 이미지 불러오기(가로 x 세로)\n",
    "image_right_eye = cv2.imread(\"cat_right_ear.png\", cv2.IMREAD_UNCHANGED) # 100 x 100\n",
    "image_left_eye = cv2.imread(\"cat_left_ear.png\", cv2.IMREAD_UNCHANGED) # 100 x 100\n",
    "image_nose = cv2.imread(\"cat_nose.png\", cv2.IMREAD_UNCHANGED) # 300 x 100\n",
    "\n",
    "with mp_face_detection.FaceDetection(model_selection=0, min_detection_confidence=0.7) as face_detection:\n",
    "    while cap.isOpened():\n",
    "        success, image = cap.read()\n",
    "        if not success:\n",
    "            break\n",
    "\n",
    "        # To improve performance, optionally mark the image as not writeable to\n",
    "        # pass by reference.\n",
    "        image.flags.writeable = False\n",
    "        # BGR 값을 RBG 값으로 변환\n",
    "        image = cv2.cvtColor(image, cv2.COLOR_BGR2RGB)\n",
    "        # 얼굴을 검출하여 결과로 반환\n",
    "        results = face_detection.process(image)\n",
    "\n",
    "        # Draw the face detection annotations on the image.\n",
    "        image.flags.writeable = True\n",
    "        # RBG를 BGR로 변환\n",
    "        image = cv2.cvtColor(image, cv2.COLOR_RGB2BGR)\n",
    "        \n",
    "        # 검출 된 얼굴이 있다면\n",
    "        if results.detections:\n",
    "            # 6개 특징 : 오른쪽 눈, 왼쪽 눈, 코 끝부분, 입 중심, 오른쪽 귀, 왼쪽 귀\n",
    "            for detection in results.detections:\n",
    "                # 반복문을 통해서 얼굴에 네모나 점등 표시한다.\n",
    "                # mp_drawing.draw_detection(image, detection)\n",
    "                # print(detection)\n",
    "\n",
    "                # 특정 위치 가져오기\n",
    "                keypoints = detection.location_data.relative_keypoints\n",
    "                right_eye = keypoints[0] # 오른쪽 눈\n",
    "                left_eye = keypoints[1] # 왼쪽 눈\n",
    "                nose = keypoints[2] # 코 끝부분\n",
    "                \n",
    "                h, w, _ = image.shape # height, width, channel : 이미지로 부터 세로 가로 크기 가져옴\n",
    "                \n",
    "                # 이미지 내에서 실제 좌표(x, y)\n",
    "                right_eye = (int(right_eye.x * w) - 20, int(right_eye.y * h) - 100)\n",
    "                left_eye = (int(left_eye.x * w) - 20, int(left_eye.y * h) - 100)\n",
    "                nose = (int(nose.x * w), int(nose.y * h))\n",
    "                \n",
    "                # 각 특징에 이미지 그리기\n",
    "                overlay(image, *right_eye, 50, 50, image_right_eye)\n",
    "                overlay(image, *left_eye, 50, 50, image_left_eye)\n",
    "                overlay(image, *nose, 150, 50, image_nose)\n",
    "                \n",
    "        # 켐에서 보여주면 좌우 반전을 해야 보기 편하지만 동영상을 사용하기 때문에 Flip은 안써도 된다.\n",
    "        cv2.imshow('MediaPipe Face Detection', cv2.resize(image, None, fx=0.5, fy=0.5))\n",
    "        if cv2.waitKey(1) == ord(\"q\"):\n",
    "            break\n",
    "            \n",
    "cap.release()\n",
    "cv2.destroyAllWindows()"
   ]
  },
  {
   "cell_type": "markdown",
   "id": "f06b9eff",
   "metadata": {},
   "source": [
    "### 코드 분석"
   ]
  },
  {
   "cell_type": "markdown",
   "id": "1d95da45",
   "metadata": {},
   "source": [
    "- overlay(대상 이미지(3채널), x, y좌표, width, height, 덮어씌울 이미지(4채널))\n",
    "> alpha = overlay_image[:, :, 3] : BGRA 중 Alpha 값만 가져온다  \n",
    "> mask_image = alpha / 255  \n",
    ">> mask_image는 0 ~ 1 값을 가진다 (1 : 불투명, 0: 완전 투명한 이미지)  \n",
    "> (1 - mask_image)는 1 ~ 0 값을 가진다  \n",
    "> 두 값을 더하면 항상 1 == 완전 불투명를 의미한다."
   ]
  },
  {
   "cell_type": "markdown",
   "id": "3fd4d64a",
   "metadata": {},
   "source": [
    " - 반복문  \n",
    " image[세로영역, 가로영역, 채널] = (overlay_image[:, :, c] * mask_image) + (image[y-h:y+h, x-w:x+w, c] * (1 - mask_image))"
   ]
  },
  {
   "cell_type": "markdown",
   "id": "1678bf2a",
   "metadata": {},
   "source": [
    "> 결과 이미지 3채널(BGR) =  \n",
    "{덮어씌울 이미지 4채널(BGRA 중 BGR) X mask_image(투명도)} + {대상이미지 3채널(BGR) X (1 - mask_image)}  "
   ]
  },
  {
   "cell_type": "markdown",
   "id": "c339295d",
   "metadata": {},
   "source": [
    "- ex1)  \n",
    "> ???              = {노랑(0, 255, 255) x 1.0} + {빨강(0, 0, 255) x 0.0}  \n",
    "{노랑(0, 255, 255) = {노랑(0, 255, 255)        +     (0, 0, 0)\n",
    "- ex2)\n",
    ">???              = {노랑(0, 255, 255) x 0.0} + {빨강(0, 0, 255) x 1.0}  \n",
    "{노랑(0, 255, 255) =  (0, 0, 0)  +   {빨강(0, 0, 255) x 1.0}  \n",
    "- ex3)\n",
    ">???              = {노랑(0, 255, 255) x 0.4} + {빨강(0, 0, 255) x 0.6}  \n",
    "주황(0, 102, 255) = [(0, 255, 255) * 0.4] = [(0, 102, 102) * 0.6] + (0, 0, 255)]= (0, 0, 153)"
   ]
  },
  {
   "cell_type": "markdown",
   "id": "0a0aeb29",
   "metadata": {},
   "source": [
    "#### 덮어 씌울 이미지에 투명도를 곱하고, 대상 이미지에 (1 - 투명도)를 곱하고 두 이미지를 섞어서 적절한 값을 도출한다."
   ]
  },
  {
   "cell_type": "markdown",
   "id": "5c0767d0",
   "metadata": {},
   "source": [
    "## 참고\n",
    "---\n",
    "[코드 참고](https://google.github.io/mediapipe/solutions/face_detection)  \n",
    "[동영상](https://www.pexels.com/video/a-man-having-a-discussion-with-a-woman-3256542/)  \n",
    "[캐릭터 이미지](https://www.freepik.com/free-vector/cute-animal-masks-video-chat-application-effect-filters-set_6380101.htm)  \n",
    "[무료 이미지 편집 도구]( https://pixlr.com/kr/\n",
    ")  \n",
    "[무료 이미지 참고](https://pixabay.com/)  \n",
    "[학습 자료](https://opencv-python.readthedocs.io/en/latest/)"
   ]
  }
 ],
 "metadata": {
  "kernelspec": {
   "display_name": "Python 3 (ipykernel)",
   "language": "python",
   "name": "python3"
  },
  "language_info": {
   "codemirror_mode": {
    "name": "ipython",
    "version": 3
   },
   "file_extension": ".py",
   "mimetype": "text/x-python",
   "name": "python",
   "nbconvert_exporter": "python",
   "pygments_lexer": "ipython3",
   "version": "3.9.7"
  }
 },
 "nbformat": 4,
 "nbformat_minor": 5
}
